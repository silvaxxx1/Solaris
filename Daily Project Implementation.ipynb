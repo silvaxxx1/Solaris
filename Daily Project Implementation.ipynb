{
 "cells": [
  {
   "cell_type": "code",
   "execution_count": 26,
   "id": "c18a79d7",
   "metadata": {
    "id": "c18a79d7"
   },
   "outputs": [],
   "source": [
    "import numpy as np\n",
    "import pandas as pd\n",
    "\n",
    "from sklearn.metrics import r2_score, mean_squared_error, mean_absolute_error"
   ]
  },
  {
   "cell_type": "code",
   "execution_count": 2,
   "id": "fa97141f",
   "metadata": {
    "colab": {
     "base_uri": "https://localhost:8080/",
     "height": 206
    },
    "id": "fa97141f",
    "outputId": "573dab36-644c-44a4-cf78-6d8cf4376cab"
   },
   "outputs": [
    {
     "data": {
      "text/html": [
       "<div>\n",
       "<style scoped>\n",
       "    .dataframe tbody tr th:only-of-type {\n",
       "        vertical-align: middle;\n",
       "    }\n",
       "\n",
       "    .dataframe tbody tr th {\n",
       "        vertical-align: top;\n",
       "    }\n",
       "\n",
       "    .dataframe thead th {\n",
       "        text-align: right;\n",
       "    }\n",
       "</style>\n",
       "<table border=\"1\" class=\"dataframe\">\n",
       "  <thead>\n",
       "    <tr style=\"text-align: right;\">\n",
       "      <th></th>\n",
       "      <th>Date</th>\n",
       "      <th>Temperature</th>\n",
       "      <th>Humidity</th>\n",
       "    </tr>\n",
       "  </thead>\n",
       "  <tbody>\n",
       "    <tr>\n",
       "      <th>0</th>\n",
       "      <td>1-09-2021</td>\n",
       "      <td>85.3</td>\n",
       "      <td>78.3</td>\n",
       "    </tr>\n",
       "    <tr>\n",
       "      <th>1</th>\n",
       "      <td>2-09-2021</td>\n",
       "      <td>82.9</td>\n",
       "      <td>79.1</td>\n",
       "    </tr>\n",
       "    <tr>\n",
       "      <th>2</th>\n",
       "      <td>3-09-2021</td>\n",
       "      <td>84.5</td>\n",
       "      <td>76.8</td>\n",
       "    </tr>\n",
       "    <tr>\n",
       "      <th>3</th>\n",
       "      <td>4-09-2021</td>\n",
       "      <td>83.0</td>\n",
       "      <td>77.3</td>\n",
       "    </tr>\n",
       "    <tr>\n",
       "      <th>4</th>\n",
       "      <td>5-09-2021</td>\n",
       "      <td>82.8</td>\n",
       "      <td>78.3</td>\n",
       "    </tr>\n",
       "  </tbody>\n",
       "</table>\n",
       "</div>"
      ],
      "text/plain": [
       "        Date  Temperature  Humidity\n",
       "0  1-09-2021         85.3      78.3\n",
       "1  2-09-2021         82.9      79.1\n",
       "2  3-09-2021         84.5      76.8\n",
       "3  4-09-2021         83.0      77.3\n",
       "4  5-09-2021         82.8      78.3"
      ]
     },
     "execution_count": 2,
     "metadata": {},
     "output_type": "execute_result"
    }
   ],
   "source": [
    "df1 = pd.read_csv(\"Chennai_Weather.csv\")\n",
    "df1.head()"
   ]
  },
  {
   "cell_type": "code",
   "execution_count": 3,
   "id": "41e83c59",
   "metadata": {
    "colab": {
     "base_uri": "https://localhost:8080/",
     "height": 206
    },
    "id": "41e83c59",
    "outputId": "aea3ef62-2e29-49aa-b555-ea76af2439eb"
   },
   "outputs": [
    {
     "data": {
      "text/html": [
       "<div>\n",
       "<style scoped>\n",
       "    .dataframe tbody tr th:only-of-type {\n",
       "        vertical-align: middle;\n",
       "    }\n",
       "\n",
       "    .dataframe tbody tr th {\n",
       "        vertical-align: top;\n",
       "    }\n",
       "\n",
       "    .dataframe thead th {\n",
       "        text-align: right;\n",
       "    }\n",
       "</style>\n",
       "<table border=\"1\" class=\"dataframe\">\n",
       "  <thead>\n",
       "    <tr style=\"text-align: right;\">\n",
       "      <th></th>\n",
       "      <th>Date</th>\n",
       "      <th>Irradiance</th>\n",
       "      <th>Power</th>\n",
       "    </tr>\n",
       "  </thead>\n",
       "  <tbody>\n",
       "    <tr>\n",
       "      <th>0</th>\n",
       "      <td>2021-09-01</td>\n",
       "      <td>46249.0</td>\n",
       "      <td>8398.411409</td>\n",
       "    </tr>\n",
       "    <tr>\n",
       "      <th>1</th>\n",
       "      <td>2021-09-02</td>\n",
       "      <td>22069.0</td>\n",
       "      <td>4007.536193</td>\n",
       "    </tr>\n",
       "    <tr>\n",
       "      <th>2</th>\n",
       "      <td>2021-09-03</td>\n",
       "      <td>35961.0</td>\n",
       "      <td>6530.201143</td>\n",
       "    </tr>\n",
       "    <tr>\n",
       "      <th>3</th>\n",
       "      <td>2021-09-04</td>\n",
       "      <td>38056.0</td>\n",
       "      <td>6910.634707</td>\n",
       "    </tr>\n",
       "    <tr>\n",
       "      <th>4</th>\n",
       "      <td>2021-09-05</td>\n",
       "      <td>50757.0</td>\n",
       "      <td>9217.024538</td>\n",
       "    </tr>\n",
       "  </tbody>\n",
       "</table>\n",
       "</div>"
      ],
      "text/plain": [
       "         Date  Irradiance        Power\n",
       "0  2021-09-01     46249.0  8398.411409\n",
       "1  2021-09-02     22069.0  4007.536193\n",
       "2  2021-09-03     35961.0  6530.201143\n",
       "3  2021-09-04     38056.0  6910.634707\n",
       "4  2021-09-05     50757.0  9217.024538"
      ]
     },
     "execution_count": 3,
     "metadata": {},
     "output_type": "execute_result"
    }
   ],
   "source": [
    "df2 = pd.read_csv(\"VIT_Solar_Power.csv\")\n",
    "df2.head()"
   ]
  },
  {
   "cell_type": "code",
   "execution_count": 4,
   "id": "f09d5a6f",
   "metadata": {
    "colab": {
     "base_uri": "https://localhost:8080/",
     "height": 206
    },
    "id": "f09d5a6f",
    "outputId": "cc33c954-d581-438c-aca3-d38e681c7c97"
   },
   "outputs": [
    {
     "data": {
      "text/html": [
       "<div>\n",
       "<style scoped>\n",
       "    .dataframe tbody tr th:only-of-type {\n",
       "        vertical-align: middle;\n",
       "    }\n",
       "\n",
       "    .dataframe tbody tr th {\n",
       "        vertical-align: top;\n",
       "    }\n",
       "\n",
       "    .dataframe thead th {\n",
       "        text-align: right;\n",
       "    }\n",
       "</style>\n",
       "<table border=\"1\" class=\"dataframe\">\n",
       "  <thead>\n",
       "    <tr style=\"text-align: right;\">\n",
       "      <th></th>\n",
       "      <th>Date_x</th>\n",
       "      <th>Irradiance</th>\n",
       "      <th>Power</th>\n",
       "      <th>Date_y</th>\n",
       "      <th>Temperature</th>\n",
       "      <th>Humidity</th>\n",
       "    </tr>\n",
       "  </thead>\n",
       "  <tbody>\n",
       "    <tr>\n",
       "      <th>0</th>\n",
       "      <td>2021-09-01</td>\n",
       "      <td>46249.0</td>\n",
       "      <td>8398.411409</td>\n",
       "      <td>1-09-2021</td>\n",
       "      <td>85.3</td>\n",
       "      <td>78.3</td>\n",
       "    </tr>\n",
       "    <tr>\n",
       "      <th>1</th>\n",
       "      <td>2021-09-02</td>\n",
       "      <td>22069.0</td>\n",
       "      <td>4007.536193</td>\n",
       "      <td>2-09-2021</td>\n",
       "      <td>82.9</td>\n",
       "      <td>79.1</td>\n",
       "    </tr>\n",
       "    <tr>\n",
       "      <th>2</th>\n",
       "      <td>2021-09-03</td>\n",
       "      <td>35961.0</td>\n",
       "      <td>6530.201143</td>\n",
       "      <td>3-09-2021</td>\n",
       "      <td>84.5</td>\n",
       "      <td>76.8</td>\n",
       "    </tr>\n",
       "    <tr>\n",
       "      <th>3</th>\n",
       "      <td>2021-09-04</td>\n",
       "      <td>38056.0</td>\n",
       "      <td>6910.634707</td>\n",
       "      <td>4-09-2021</td>\n",
       "      <td>83.0</td>\n",
       "      <td>77.3</td>\n",
       "    </tr>\n",
       "    <tr>\n",
       "      <th>4</th>\n",
       "      <td>2021-09-05</td>\n",
       "      <td>50757.0</td>\n",
       "      <td>9217.024538</td>\n",
       "      <td>5-09-2021</td>\n",
       "      <td>82.8</td>\n",
       "      <td>78.3</td>\n",
       "    </tr>\n",
       "  </tbody>\n",
       "</table>\n",
       "</div>"
      ],
      "text/plain": [
       "       Date_x  Irradiance        Power     Date_y  Temperature  Humidity\n",
       "0  2021-09-01     46249.0  8398.411409  1-09-2021         85.3      78.3\n",
       "1  2021-09-02     22069.0  4007.536193  2-09-2021         82.9      79.1\n",
       "2  2021-09-03     35961.0  6530.201143  3-09-2021         84.5      76.8\n",
       "3  2021-09-04     38056.0  6910.634707  4-09-2021         83.0      77.3\n",
       "4  2021-09-05     50757.0  9217.024538  5-09-2021         82.8      78.3"
      ]
     },
     "execution_count": 4,
     "metadata": {},
     "output_type": "execute_result"
    }
   ],
   "source": [
    "df3=pd.merge(df2, df1, left_index=True, right_index=True)\n",
    "df3.head()"
   ]
  },
  {
   "cell_type": "code",
   "execution_count": 5,
   "id": "59a2ec08",
   "metadata": {
    "colab": {
     "base_uri": "https://localhost:8080/"
    },
    "id": "59a2ec08",
    "outputId": "3e83cf64-3b4f-4036-f6e9-1f79d503374f"
   },
   "outputs": [
    {
     "data": {
      "text/plain": [
       "(365, 6)"
      ]
     },
     "execution_count": 5,
     "metadata": {},
     "output_type": "execute_result"
    }
   ],
   "source": [
    "df3.shape"
   ]
  },
  {
   "cell_type": "code",
   "execution_count": 6,
   "id": "5f0d25ce",
   "metadata": {
    "colab": {
     "base_uri": "https://localhost:8080/",
     "height": 206
    },
    "id": "5f0d25ce",
    "outputId": "c67d9dba-f069-427a-9ad9-6eddaac7bc05"
   },
   "outputs": [
    {
     "data": {
      "text/html": [
       "<div>\n",
       "<style scoped>\n",
       "    .dataframe tbody tr th:only-of-type {\n",
       "        vertical-align: middle;\n",
       "    }\n",
       "\n",
       "    .dataframe tbody tr th {\n",
       "        vertical-align: top;\n",
       "    }\n",
       "\n",
       "    .dataframe thead th {\n",
       "        text-align: right;\n",
       "    }\n",
       "</style>\n",
       "<table border=\"1\" class=\"dataframe\">\n",
       "  <thead>\n",
       "    <tr style=\"text-align: right;\">\n",
       "      <th></th>\n",
       "      <th>Date</th>\n",
       "      <th>Irradiance</th>\n",
       "      <th>Power</th>\n",
       "      <th>Temperature</th>\n",
       "      <th>Humidity</th>\n",
       "    </tr>\n",
       "  </thead>\n",
       "  <tbody>\n",
       "    <tr>\n",
       "      <th>0</th>\n",
       "      <td>2021-09-01</td>\n",
       "      <td>46249.0</td>\n",
       "      <td>8398.411409</td>\n",
       "      <td>85.3</td>\n",
       "      <td>78.3</td>\n",
       "    </tr>\n",
       "    <tr>\n",
       "      <th>1</th>\n",
       "      <td>2021-09-02</td>\n",
       "      <td>22069.0</td>\n",
       "      <td>4007.536193</td>\n",
       "      <td>82.9</td>\n",
       "      <td>79.1</td>\n",
       "    </tr>\n",
       "    <tr>\n",
       "      <th>2</th>\n",
       "      <td>2021-09-03</td>\n",
       "      <td>35961.0</td>\n",
       "      <td>6530.201143</td>\n",
       "      <td>84.5</td>\n",
       "      <td>76.8</td>\n",
       "    </tr>\n",
       "    <tr>\n",
       "      <th>3</th>\n",
       "      <td>2021-09-04</td>\n",
       "      <td>38056.0</td>\n",
       "      <td>6910.634707</td>\n",
       "      <td>83.0</td>\n",
       "      <td>77.3</td>\n",
       "    </tr>\n",
       "    <tr>\n",
       "      <th>4</th>\n",
       "      <td>2021-09-05</td>\n",
       "      <td>50757.0</td>\n",
       "      <td>9217.024538</td>\n",
       "      <td>82.8</td>\n",
       "      <td>78.3</td>\n",
       "    </tr>\n",
       "  </tbody>\n",
       "</table>\n",
       "</div>"
      ],
      "text/plain": [
       "         Date  Irradiance        Power  Temperature  Humidity\n",
       "0  2021-09-01     46249.0  8398.411409         85.3      78.3\n",
       "1  2021-09-02     22069.0  4007.536193         82.9      79.1\n",
       "2  2021-09-03     35961.0  6530.201143         84.5      76.8\n",
       "3  2021-09-04     38056.0  6910.634707         83.0      77.3\n",
       "4  2021-09-05     50757.0  9217.024538         82.8      78.3"
      ]
     },
     "execution_count": 6,
     "metadata": {},
     "output_type": "execute_result"
    }
   ],
   "source": [
    "df3 = df3.drop(\"Date_y\",axis=1)\n",
    "df3.rename(columns={'Date_x': 'Date'}, inplace=True)\n",
    "df3.head()"
   ]
  },
  {
   "cell_type": "code",
   "execution_count": 7,
   "id": "1bef083c",
   "metadata": {},
   "outputs": [],
   "source": [
    "df3.to_csv('Merge.csv', index=False)"
   ]
  },
  {
   "cell_type": "code",
   "execution_count": 8,
   "id": "b6338c03",
   "metadata": {
    "colab": {
     "base_uri": "https://localhost:8080/"
    },
    "id": "b6338c03",
    "outputId": "03a4228e-2a22-4671-a2cc-4d8ac0f98167"
   },
   "outputs": [
    {
     "data": {
      "text/plain": [
       "(365, 5)"
      ]
     },
     "execution_count": 8,
     "metadata": {},
     "output_type": "execute_result"
    }
   ],
   "source": [
    "df3.shape"
   ]
  },
  {
   "cell_type": "code",
   "execution_count": 9,
   "id": "11a8d518",
   "metadata": {
    "colab": {
     "base_uri": "https://localhost:8080/"
    },
    "id": "11a8d518",
    "outputId": "edf045d5-2d39-4484-8397-aa56ec73cbee"
   },
   "outputs": [
    {
     "data": {
      "text/plain": [
       "Date           0\n",
       "Irradiance     1\n",
       "Power          1\n",
       "Temperature    0\n",
       "Humidity       0\n",
       "dtype: int64"
      ]
     },
     "execution_count": 9,
     "metadata": {},
     "output_type": "execute_result"
    }
   ],
   "source": [
    "df3.isnull().sum()"
   ]
  },
  {
   "cell_type": "code",
   "execution_count": 10,
   "id": "04c6365e",
   "metadata": {
    "id": "04c6365e"
   },
   "outputs": [],
   "source": [
    "df3['Irradiance'] = df3['Irradiance'].fillna(df3['Irradiance'].mean())\n",
    "df3['Power'] = df3['Power'].fillna(df3['Power'].mean())"
   ]
  },
  {
   "cell_type": "code",
   "execution_count": 11,
   "id": "f7d7d244",
   "metadata": {
    "colab": {
     "base_uri": "https://localhost:8080/"
    },
    "id": "f7d7d244",
    "outputId": "9569eb5f-245d-46be-ec4a-e362cb22aa5a"
   },
   "outputs": [
    {
     "data": {
      "text/plain": [
       "Date           0\n",
       "Irradiance     0\n",
       "Power          0\n",
       "Temperature    0\n",
       "Humidity       0\n",
       "dtype: int64"
      ]
     },
     "execution_count": 11,
     "metadata": {},
     "output_type": "execute_result"
    }
   ],
   "source": [
    "df3.isnull().sum()"
   ]
  },
  {
   "cell_type": "code",
   "execution_count": 12,
   "id": "30019753",
   "metadata": {
    "colab": {
     "base_uri": "https://localhost:8080/"
    },
    "id": "30019753",
    "outputId": "3125fa58-aa2b-493d-929e-2357ef6d35a5"
   },
   "outputs": [
    {
     "name": "stdout",
     "output_type": "stream",
     "text": [
      "<class 'pandas.core.frame.DataFrame'>\n",
      "RangeIndex: 365 entries, 0 to 364\n",
      "Data columns (total 5 columns):\n",
      " #   Column       Non-Null Count  Dtype  \n",
      "---  ------       --------------  -----  \n",
      " 0   Date         365 non-null    object \n",
      " 1   Irradiance   365 non-null    float64\n",
      " 2   Power        365 non-null    float64\n",
      " 3   Temperature  365 non-null    float64\n",
      " 4   Humidity     365 non-null    float64\n",
      "dtypes: float64(4), object(1)\n",
      "memory usage: 14.4+ KB\n"
     ]
    }
   ],
   "source": [
    "df3.info()"
   ]
  },
  {
   "cell_type": "code",
   "execution_count": 13,
   "id": "4085fbe6",
   "metadata": {
    "id": "4085fbe6"
   },
   "outputs": [],
   "source": [
    "df3['Date']=pd.to_datetime(df3['Date'])"
   ]
  },
  {
   "cell_type": "code",
   "execution_count": 14,
   "id": "66fce97b",
   "metadata": {
    "colab": {
     "base_uri": "https://localhost:8080/"
    },
    "id": "66fce97b",
    "outputId": "252f7826-ca46-45b8-fe1f-ee40003ef1f3"
   },
   "outputs": [
    {
     "name": "stdout",
     "output_type": "stream",
     "text": [
      "<class 'pandas.core.frame.DataFrame'>\n",
      "RangeIndex: 365 entries, 0 to 364\n",
      "Data columns (total 5 columns):\n",
      " #   Column       Non-Null Count  Dtype         \n",
      "---  ------       --------------  -----         \n",
      " 0   Date         365 non-null    datetime64[ns]\n",
      " 1   Irradiance   365 non-null    float64       \n",
      " 2   Power        365 non-null    float64       \n",
      " 3   Temperature  365 non-null    float64       \n",
      " 4   Humidity     365 non-null    float64       \n",
      "dtypes: datetime64[ns](1), float64(4)\n",
      "memory usage: 14.4 KB\n"
     ]
    }
   ],
   "source": [
    "df3.info()"
   ]
  },
  {
   "cell_type": "code",
   "execution_count": 15,
   "id": "967e2116",
   "metadata": {
    "colab": {
     "base_uri": "https://localhost:8080/",
     "height": 206
    },
    "id": "967e2116",
    "outputId": "649404b6-3eba-403a-c2f1-7d0a0873fcd2"
   },
   "outputs": [
    {
     "data": {
      "text/html": [
       "<div>\n",
       "<style scoped>\n",
       "    .dataframe tbody tr th:only-of-type {\n",
       "        vertical-align: middle;\n",
       "    }\n",
       "\n",
       "    .dataframe tbody tr th {\n",
       "        vertical-align: top;\n",
       "    }\n",
       "\n",
       "    .dataframe thead th {\n",
       "        text-align: right;\n",
       "    }\n",
       "</style>\n",
       "<table border=\"1\" class=\"dataframe\">\n",
       "  <thead>\n",
       "    <tr style=\"text-align: right;\">\n",
       "      <th></th>\n",
       "      <th>Date</th>\n",
       "      <th>Irradiance</th>\n",
       "      <th>Power</th>\n",
       "      <th>Temperature</th>\n",
       "      <th>Humidity</th>\n",
       "    </tr>\n",
       "  </thead>\n",
       "  <tbody>\n",
       "    <tr>\n",
       "      <th>0</th>\n",
       "      <td>2021-09-01</td>\n",
       "      <td>46249.0</td>\n",
       "      <td>8398.411409</td>\n",
       "      <td>85.3</td>\n",
       "      <td>78.3</td>\n",
       "    </tr>\n",
       "    <tr>\n",
       "      <th>1</th>\n",
       "      <td>2021-09-02</td>\n",
       "      <td>22069.0</td>\n",
       "      <td>4007.536193</td>\n",
       "      <td>82.9</td>\n",
       "      <td>79.1</td>\n",
       "    </tr>\n",
       "    <tr>\n",
       "      <th>2</th>\n",
       "      <td>2021-09-03</td>\n",
       "      <td>35961.0</td>\n",
       "      <td>6530.201143</td>\n",
       "      <td>84.5</td>\n",
       "      <td>76.8</td>\n",
       "    </tr>\n",
       "    <tr>\n",
       "      <th>3</th>\n",
       "      <td>2021-09-04</td>\n",
       "      <td>38056.0</td>\n",
       "      <td>6910.634707</td>\n",
       "      <td>83.0</td>\n",
       "      <td>77.3</td>\n",
       "    </tr>\n",
       "    <tr>\n",
       "      <th>4</th>\n",
       "      <td>2021-09-05</td>\n",
       "      <td>50757.0</td>\n",
       "      <td>9217.024538</td>\n",
       "      <td>82.8</td>\n",
       "      <td>78.3</td>\n",
       "    </tr>\n",
       "  </tbody>\n",
       "</table>\n",
       "</div>"
      ],
      "text/plain": [
       "        Date  Irradiance        Power  Temperature  Humidity\n",
       "0 2021-09-01     46249.0  8398.411409         85.3      78.3\n",
       "1 2021-09-02     22069.0  4007.536193         82.9      79.1\n",
       "2 2021-09-03     35961.0  6530.201143         84.5      76.8\n",
       "3 2021-09-04     38056.0  6910.634707         83.0      77.3\n",
       "4 2021-09-05     50757.0  9217.024538         82.8      78.3"
      ]
     },
     "execution_count": 15,
     "metadata": {},
     "output_type": "execute_result"
    }
   ],
   "source": [
    "df3.head()"
   ]
  },
  {
   "cell_type": "code",
   "execution_count": 16,
   "id": "bVnYzt4tuDFU",
   "metadata": {
    "colab": {
     "base_uri": "https://localhost:8080/"
    },
    "id": "bVnYzt4tuDFU",
    "outputId": "e1583fd4-4e5b-47a6-a3c9-babf8cb818cb"
   },
   "outputs": [
    {
     "data": {
      "text/plain": [
       "array([[46249. ,    85.3,    78.3],\n",
       "       [22069. ,    82.9,    79.1],\n",
       "       [35961. ,    84.5,    76.8],\n",
       "       ...,\n",
       "       [66207. ,    85. ,    84.7],\n",
       "       [71866. ,    86.6,    81.3],\n",
       "       [39187. ,    83.8,    87.8]])"
      ]
     },
     "execution_count": 16,
     "metadata": {},
     "output_type": "execute_result"
    }
   ],
   "source": [
    "X = df3[['Irradiance', 'Temperature','Humidity']].to_numpy()\n",
    "y = df3['Power'].to_numpy()\n",
    "\n",
    "X"
   ]
  },
  {
   "cell_type": "code",
   "execution_count": 17,
   "id": "1GGFH_BVwprO",
   "metadata": {
    "id": "1GGFH_BVwprO"
   },
   "outputs": [],
   "source": [
    "X = X.reshape(365, 1, 3)\n"
   ]
  },
  {
   "cell_type": "code",
   "execution_count": 18,
   "id": "0OyloMgww2pA",
   "metadata": {
    "colab": {
     "base_uri": "https://localhost:8080/"
    },
    "id": "0OyloMgww2pA",
    "outputId": "f5c8c2cc-1288-4a65-d795-88572deba3e5"
   },
   "outputs": [
    {
     "name": "stdout",
     "output_type": "stream",
     "text": [
      "X_train shape: (328, 1, 3)\n",
      "X_test shape: (37, 1, 3)\n",
      "y_train shape: (328,)\n",
      "y_test shape: (37,)\n"
     ]
    }
   ],
   "source": [
    "def time_based_split(X, y, train_ratio):\n",
    "    # Function for splitting the data into training and test sets\n",
    "    train_size = int(len(X) * train_ratio)\n",
    "    X_train, X_test = X[0:train_size], X[train_size:]\n",
    "    y_train, y_test = y[0:train_size], y[train_size:]\n",
    "    return X_train, X_test, y_train, y_test\n",
    "\n",
    "\n",
    "# Split the data into training and test sets\n",
    "X_train, X_test, y_train, y_test = time_based_split(X, y, 0.9)\n",
    "\n",
    "# Check the shapes of the train and test sets\n",
    "print(\"X_train shape:\", X_train.shape)\n",
    "print(\"X_test shape:\", X_test.shape)\n",
    "print(\"y_train shape:\", y_train.shape)\n",
    "print(\"y_test shape:\", y_test.shape)"
   ]
  },
  {
   "cell_type": "code",
   "execution_count": 19,
   "id": "zc7A9thww5cB",
   "metadata": {
    "colab": {
     "base_uri": "https://localhost:8080/"
    },
    "id": "zc7A9thww5cB",
    "outputId": "868a7b0c-3663-43a2-f144-68c0e9becc25"
   },
   "outputs": [
    {
     "name": "stdout",
     "output_type": "stream",
     "text": [
      "Model: \"sequential\"\n",
      "_________________________________________________________________\n",
      " Layer (type)                Output Shape              Param #   \n",
      "=================================================================\n",
      " simple_rnn (SimpleRNN)      (None, 8)                 96        \n",
      "                                                                 \n",
      " dense (Dense)               (None, 1)                 9         \n",
      "                                                                 \n",
      "=================================================================\n",
      "Total params: 105\n",
      "Trainable params: 105\n",
      "Non-trainable params: 0\n",
      "_________________________________________________________________\n"
     ]
    }
   ],
   "source": [
    "from keras.models import Sequential\n",
    "from keras.layers import SimpleRNN, Dense, LSTM, Input\n",
    "\n",
    "# Defining the model\n",
    "model = Sequential()\n",
    "\n",
    "model.add(Input(shape=(1, 3)))\n",
    "model.add(SimpleRNN(8, activation='relu'))\n",
    "model.add(Dense(1))\n",
    "\n",
    "# Compile the model\n",
    "model.compile(loss='mean_squared_error', optimizer='adam')\n",
    "\n",
    "model.summary()"
   ]
  },
  {
   "cell_type": "code",
   "execution_count": 20,
   "id": "ucbF5xv4w_DW",
   "metadata": {
    "id": "ucbF5xv4w_DW"
   },
   "outputs": [],
   "source": [
    "history = model.fit(X_train, y_train,\n",
    "                    epochs=50, batch_size=32,\n",
    "                    validation_split=0.1, verbose=0)"
   ]
  },
  {
   "cell_type": "code",
   "execution_count": 21,
   "id": "_XJk9KlB1JxE",
   "metadata": {
    "colab": {
     "base_uri": "https://localhost:8080/",
     "height": 350
    },
    "id": "_XJk9KlB1JxE",
    "outputId": "95fe721e-1a67-4d17-f23f-46019555626c"
   },
   "outputs": [
    {
     "data": {
      "image/png": "[encoded data removed]",
      "text/plain": [
       "<Figure size 1000x500 with 1 Axes>"
      ]
     },
     "metadata": {},
     "output_type": "display_data"
    }
   ],
   "source": [
    "import seaborn as sns\n",
    "import matplotlib.pyplot as plt\n",
    "\n",
    "# Extracting loss and accuracy from the history object\n",
    "loss = history.history['loss']\n",
    "val_loss = history.history['val_loss']\n",
    "\n",
    "# Plotting loss using seaborn lineplot\n",
    "plt.figure(figsize=(10, 5))\n",
    "sns.lineplot(x=range(len(loss)), y=loss, label='Training Loss')\n",
    "sns.lineplot(x=range(len(val_loss)), y=val_loss, label='Validation Loss')\n",
    "plt.title('Loss over epochs')\n",
    "plt.xlabel('Epochs')\n",
    "plt.ylabel('Loss')\n",
    "plt.legend()\n",
    "plt.show()"
   ]
  },
  {
   "cell_type": "code",
   "execution_count": 22,
   "id": "mgSjaasx1L9s",
   "metadata": {
    "colab": {
     "base_uri": "https://localhost:8080/"
    },
    "id": "mgSjaasx1L9s",
    "outputId": "1da4b88f-b82f-41a0-b2f7-f8a63e240979"
   },
   "outputs": [
    {
     "name": "stdout",
     "output_type": "stream",
     "text": [
      "Test Loss: 1459306.25\n"
     ]
    }
   ],
   "source": [
    "# Testing model on test data\n",
    "test_loss = model.evaluate(X_test, y_test, verbose=0)\n",
    "print('Test Loss:', test_loss)"
   ]
  },
  {
   "cell_type": "code",
   "execution_count": 23,
   "id": "mhg4lxW91Nu_",
   "metadata": {
    "colab": {
     "base_uri": "https://localhost:8080/",
     "height": 300
    },
    "id": "mhg4lxW91Nu_",
    "outputId": "db6c2c3c-b62d-451c-f33f-7b89848eee98"
   },
   "outputs": [
    {
     "name": "stdout",
     "output_type": "stream",
     "text": [
      "2/2 [==============================] - 0s 0s/step\n"
     ]
    },
    {
     "data": {
      "text/plain": [
       "[<matplotlib.lines.Line2D at 0x1babb9b2390>]"
      ]
     },
     "execution_count": 23,
     "metadata": {},
     "output_type": "execute_result"
    },
    {
     "data": {
      "image/png": "[encoded data removed]",
      "text/plain": [
       "<Figure size 640x480 with 1 Axes>"
      ]
     },
     "metadata": {},
     "output_type": "display_data"
    }
   ],
   "source": [
    "# Plotting predicted data\n",
    "\n",
    "# Predicting target for X_test\n",
    "y_pred = model.predict(X_test)\n",
    "\n",
    "# plotting test data\n",
    "plt.plot(y_pred)\n",
    "plt.plot(y_test)"
   ]
  },
  {
   "cell_type": "code",
   "execution_count": 27,
   "id": "4Ksg7q5v1PuL",
   "metadata": {
    "id": "4Ksg7q5v1PuL"
   },
   "outputs": [
    {
     "name": "stdout",
     "output_type": "stream",
     "text": [
      "R2: 0.728\n",
      "RMSE: 1208.018\n",
      "MSE: 1459306.656\n",
      "MAE: 1178.451\n",
      "Adjusted R2: 0.721\n"
     ]
    }
   ],
   "source": [
    "# Calculate R2\n",
    "r2 = r2_score(y_test, y_pred)\n",
    "\n",
    "# Calculate RMSE\n",
    "rmse = np.sqrt(mean_squared_error(y_test, y_pred))\n",
    "\n",
    "# Calculate MSE\n",
    "mse = mean_squared_error(y_test, y_pred)\n",
    "\n",
    "# Calculate MAE\n",
    "mae = mean_absolute_error(y_test, y_pred)\n",
    "\n",
    "# Calculate adjusted R2\n",
    "n = len(y_test)\n",
    "p = 1  # assuming only one predictor variable\n",
    "r2_adj = 1 - ((1 - r2) * (n - 1)) / (n - p - 1)\n",
    "\n",
    "# Print results\n",
    "print(f\"R2: {r2:.3f}\")\n",
    "print(f\"RMSE: {rmse:.3f}\")\n",
    "print(f\"MSE: {mse:.3f}\")\n",
    "print(f\"MAE: {mae:.3f}\")\n",
    "print(f\"Adjusted R2: {r2_adj:.3f}\")"
   ]
  }
 ],
 "metadata": {
  "colab": {
   "provenance": []
  },
  "kernelspec": {
   "display_name": "Python 3 (ipykernel)",
   "language": "python",
   "name": "python3"
  },
  "language_info": {
   "codemirror_mode": {
    "name": "ipython",
    "version": 3
   },
   "file_extension": ".py",
   "mimetype": "text/x-python",
   "name": "python",
   "nbconvert_exporter": "python",
   "pygments_lexer": "ipython3",
   "version": "3.11.5"
  }
 },
 "nbformat": 4,
 "nbformat_minor": 5
}
