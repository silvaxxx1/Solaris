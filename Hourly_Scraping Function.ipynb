{
 "cells": [
  {
   "cell_type": "code",
   "execution_count": 67,
   "id": "02a4d94a",
   "metadata": {},
   "outputs": [],
   "source": [
    "import numpy as np"
   ]
  },
  {
   "cell_type": "code",
   "execution_count": 1,
   "id": "a1743bb6",
   "metadata": {},
   "outputs": [],
   "source": [
    "from selenium import webdriver\n",
    "from bs4 import BeautifulSoup\n",
    "\n",
    "def driversetup():\n",
    "    options = webdriver.ChromeOptions()\n",
    "    #run Selenium in headless mode\n",
    "    options.add_argument('--headless')\n",
    "    options.add_argument('--no-sandbox')\n",
    "    #overcome limited resource problems\n",
    "    options.add_argument('--disable-dev-shm-usage')\n",
    "    options.add_argument(\"lang=en\")\n",
    "    #open Browser in maximized mode\n",
    "    options.add_argument(\"start-maximized\")\n",
    "    #disable infobars\n",
    "    options.add_argument(\"disable-infobars\")\n",
    "    #disable extension\n",
    "    options.add_argument(\"--disable-extensions\")\n",
    "    options.add_argument(\"--incognito\")\n",
    "    options.add_argument(\"--disable-blink-features=AutomationControlled\")\n",
    "    \n",
    "    driver = webdriver.Chrome(options=options)\n",
    "\n",
    "    driver.execute_script(\"Object.defineProperty(navigator, 'webdriver', {get: () => undefined});\")\n",
    "\n",
    "    return driver"
   ]
  },
  {
   "cell_type": "code",
   "execution_count": 2,
   "id": "3f1147be",
   "metadata": {},
   "outputs": [],
   "source": [
    "import pandas as pd\n",
    "from selenium.webdriver.common.by import By\n",
    "from selenium.webdriver.support.ui import WebDriverWait\n",
    "from selenium.webdriver.support import expected_conditions as EC\n",
    "from selenium import webdriver\n",
    "from bs4 import BeautifulSoup\n",
    "def extract(url,date):\n",
    "    #\"https://www.wunderground.com/history/daily/VOMM/date/2023-3-14\"\n",
    "    try:\n",
    "        driver = webdriver.Chrome()\n",
    "        driver.get(url)\n",
    "        tables = WebDriverWait(driver,20).until(EC.presence_of_all_elements_located((By.CSS_SELECTOR, \"table\")))\n",
    "        soup = BeautifulSoup(driver.page_source, 'html.parser')\n",
    "        table = soup.find('table',{'class':'mat-table cdk-table mat-sort ng-star-inserted'})\n",
    "        time_list = []\n",
    "        date_list = []\n",
    "        temp_list = []\n",
    "        hum_list = []\n",
    "\n",
    "        for tag in table:\n",
    "            td = tag.find_all('td', {'class': 'ng-star-inserted'})\n",
    "            count = 0\n",
    "            for t in  td:\n",
    "                row=t.find_all('span',{'class': 'ng-star-inserted'})\n",
    "                #print(row)\n",
    "                flag = 0\n",
    "                for r in row:\n",
    "                    txt = r.text\n",
    "                    if 'PM' in txt or 'AM' in txt:\n",
    "                        time_list.append(txt)\n",
    "                        count=1\n",
    "                    elif count==1:\n",
    "                        temp_list.append(txt)\n",
    "                        count+=1\n",
    "                    elif count==5:\n",
    "                        hum_list.append(txt)\n",
    "                        count+=1\n",
    "                    else:\n",
    "                        count+=1\n",
    "        temp_df = pd.DataFrame({'Time':time_list,'Temp':temp_list,'Hum':hum_list})\n",
    "        temp_df['Temp'] = temp_df['Temp'].astype('str').str.extractall('(\\d+)').unstack().fillna('').sum(axis=1).astype(int)\n",
    "        temp_df['Hum'] = temp_df['Hum'].astype('str').str.extractall('(\\d+)').unstack().fillna('').sum(axis=1).astype(int)\n",
    "\n",
    "        for i in range(0,len(temp_df['Time'])):\n",
    "            if 'PM' in temp_df.loc[i,'Time']:\n",
    "                val=temp_df.loc[i,'Time'].split(':')[0]\n",
    "                if(val!='12'):\n",
    "                    temp_df.loc[i,'Time']=str(int(val)+12)\n",
    "                else:\n",
    "                    temp_df.loc[i,'Time']=val\n",
    "            elif 'AM' in temp_df.loc[i,'Time']:\n",
    "                val=temp_df.loc[i,'Time'].split(':')[0]\n",
    "                if(val!='12')and(int(val)<10):\n",
    "                    temp_df.loc[i,'Time']='0'+val\n",
    "                elif((val!='12')and(int(val)>=10)):\n",
    "                    temp_df.loc[i,'Time']=val\n",
    "                else:\n",
    "                    temp_df.loc[i,'Time']='00'\n",
    "\n",
    "        temp_df = temp_df.groupby(['Time']).mean().round(decimals=1).reset_index()\n",
    "        L=list()\n",
    "        L.append(date)\n",
    "        temp_df['Date']=L*len(temp_df['Time'])\n",
    "        #L=list(date)*len(temp_df['Time'])\n",
    "        #temp_df['Date']=L\n",
    "        driver.quit()\n",
    "        return temp_df\n",
    "    except:\n",
    "        driver = webdriver.Chrome()\n",
    "        driver.get(url)\n",
    "        tables = WebDriverWait(driver,20).until(EC.presence_of_all_elements_located((By.CSS_SELECTOR, \"table\")))\n",
    "        soup = BeautifulSoup(driver.page_source, 'html.parser')\n",
    "        table = soup.find('table',{'class':'mat-table cdk-table mat-sort ng-star-inserted'})\n",
    "        time_list = []\n",
    "        date_list = []\n",
    "        temp_list = []\n",
    "        hum_list = []\n",
    "\n",
    "        for tag in table:\n",
    "            td = tag.find_all('td', {'class': 'ng-star-inserted'})\n",
    "            count = 0\n",
    "            for t in  td:\n",
    "                row=t.find_all('span',{'class': 'ng-star-inserted'})\n",
    "                #print(row)\n",
    "                flag = 0\n",
    "                for r in row:\n",
    "                    txt = r.text\n",
    "                    if 'PM' in txt or 'AM' in txt:\n",
    "                        time_list.append(txt)\n",
    "                        count=1\n",
    "                    elif count==1:\n",
    "                        temp_list.append(txt)\n",
    "                        count+=1\n",
    "                    elif count==5:\n",
    "                        hum_list.append(txt)\n",
    "                        count+=1\n",
    "                    else:\n",
    "                        count+=1\n",
    "        temp_df = pd.DataFrame({'Time':time_list,'Temp':temp_list,'Hum':hum_list})\n",
    "        temp_df['Temp'] = temp_df['Temp'].astype('str').str.extractall('(\\d+)').unstack().fillna('').sum(axis=1).astype(int)\n",
    "        temp_df['Hum'] = temp_df['Hum'].astype('str').str.extractall('(\\d+)').unstack().fillna('').sum(axis=1).astype(int)\n",
    "\n",
    "        for i in range(0,len(temp_df['Time'])):\n",
    "            if 'PM' in temp_df.loc[i,'Time']:\n",
    "                val=temp_df.loc[i,'Time'].split(':')[0]\n",
    "                if(val!='12'):\n",
    "                    temp_df.loc[i,'Time']=str(int(val)+12)\n",
    "                else:\n",
    "                    temp_df.loc[i,'Time']=val\n",
    "            elif 'AM' in temp_df.loc[i,'Time']:\n",
    "                val=temp_df.loc[i,'Time'].split(':')[0]\n",
    "                if(val!='12')and(int(val)<10):\n",
    "                    temp_df.loc[i,'Time']='0'+val\n",
    "                elif((val!='12')and(int(val)>=10)):\n",
    "                    temp_df.loc[i,'Time']=val\n",
    "                else:\n",
    "                    temp_df.loc[i,'Time']='00'\n",
    "\n",
    "        temp_df = temp_df.groupby(['Time']).mean().round(decimals=1).reset_index()\n",
    "        L=list()\n",
    "        L.append(date)\n",
    "        temp_df['Date']=L*len(temp_df['Time'])\n",
    "        return temp_df"
   ]
  },
  {
   "cell_type": "code",
   "execution_count": null,
   "id": "627e5de3",
   "metadata": {},
   "outputs": [],
   "source": [
    "df1=extract('https://www.wunderground.com/history/daily/VOMM/date/2023-3-14','2023-3-14')"
   ]
  },
  {
   "cell_type": "code",
   "execution_count": null,
   "id": "22bd6d42",
   "metadata": {},
   "outputs": [],
   "source": [
    "df1.head()"
   ]
  },
  {
   "cell_type": "code",
   "execution_count": null,
   "id": "2153790f",
   "metadata": {},
   "outputs": [],
   "source": [
    "df1.shape"
   ]
  },
  {
   "cell_type": "code",
   "execution_count": null,
   "id": "e1d5e471",
   "metadata": {},
   "outputs": [],
   "source": [
    "frames = [df1, df1]\n",
    "df1 = pd.concat(frames)\n",
    "df1.shape"
   ]
  },
  {
   "cell_type": "code",
   "execution_count": 3,
   "id": "a20b7c1a",
   "metadata": {},
   "outputs": [],
   "source": [
    "from datetime import date, timedelta\n",
    "\n",
    "start_dt = date(2021, 9, 1)\n",
    "end_dt = date(2022, 8, 31)\n",
    "\n",
    "# difference between current and previous date\n",
    "delta = timedelta(days=1)\n",
    "\n",
    "# store the dates between two dates in a list\n",
    "dates = []\n",
    "\n",
    "while start_dt <= end_dt:\n",
    "    # add current date to list by converting  it to iso format\n",
    "    dates.append(start_dt.isoformat())\n",
    "    # increment start date by timedelta\n",
    "    start_dt += delta\n",
    "\n",
    "#dates"
   ]
  },
  {
   "cell_type": "code",
   "execution_count": 4,
   "id": "a6389894",
   "metadata": {},
   "outputs": [],
   "source": [
    "#\n",
    "df_hr_wt=pd.DataFrame(columns=[\"Date\",\"Time\",\"Temperature\",\"Humidity\"])\n",
    "for lnk in dates:\n",
    "    url = 'https://www.wunderground.com/history/daily/VOMM/date/'+lnk\n",
    "    df_new = extract(url,lnk)\n",
    "    frames = [df_hr_wt, df_new]\n",
    "    df_hr_wt = pd.concat(frames)"
   ]
  },
  {
   "cell_type": "code",
   "execution_count": 5,
   "id": "e2c5b14d",
   "metadata": {},
   "outputs": [
    {
     "data": {
      "text/plain": [
       "(8727, 6)"
      ]
     },
     "execution_count": 5,
     "metadata": {},
     "output_type": "execute_result"
    }
   ],
   "source": [
    "df_hr_wt.shape"
   ]
  },
  {
   "cell_type": "code",
   "execution_count": 6,
   "id": "c636e458",
   "metadata": {},
   "outputs": [
    {
     "data": {
      "text/html": [
       "<div>\n",
       "<style scoped>\n",
       "    .dataframe tbody tr th:only-of-type {\n",
       "        vertical-align: middle;\n",
       "    }\n",
       "\n",
       "    .dataframe tbody tr th {\n",
       "        vertical-align: top;\n",
       "    }\n",
       "\n",
       "    .dataframe thead th {\n",
       "        text-align: right;\n",
       "    }\n",
       "</style>\n",
       "<table border=\"1\" class=\"dataframe\">\n",
       "  <thead>\n",
       "    <tr style=\"text-align: right;\">\n",
       "      <th></th>\n",
       "      <th>Date</th>\n",
       "      <th>Time</th>\n",
       "      <th>Temperature</th>\n",
       "      <th>Humidity</th>\n",
       "      <th>Temp</th>\n",
       "      <th>Hum</th>\n",
       "    </tr>\n",
       "  </thead>\n",
       "  <tbody>\n",
       "    <tr>\n",
       "      <th>0</th>\n",
       "      <td>2021-09-01</td>\n",
       "      <td>00</td>\n",
       "      <td>NaN</td>\n",
       "      <td>NaN</td>\n",
       "      <td>82.0</td>\n",
       "      <td>84.0</td>\n",
       "    </tr>\n",
       "    <tr>\n",
       "      <th>1</th>\n",
       "      <td>2021-09-01</td>\n",
       "      <td>01</td>\n",
       "      <td>NaN</td>\n",
       "      <td>NaN</td>\n",
       "      <td>82.0</td>\n",
       "      <td>84.0</td>\n",
       "    </tr>\n",
       "    <tr>\n",
       "      <th>2</th>\n",
       "      <td>2021-09-01</td>\n",
       "      <td>02</td>\n",
       "      <td>NaN</td>\n",
       "      <td>NaN</td>\n",
       "      <td>82.0</td>\n",
       "      <td>86.5</td>\n",
       "    </tr>\n",
       "    <tr>\n",
       "      <th>3</th>\n",
       "      <td>2021-09-01</td>\n",
       "      <td>03</td>\n",
       "      <td>NaN</td>\n",
       "      <td>NaN</td>\n",
       "      <td>82.0</td>\n",
       "      <td>89.0</td>\n",
       "    </tr>\n",
       "    <tr>\n",
       "      <th>4</th>\n",
       "      <td>2021-09-01</td>\n",
       "      <td>04</td>\n",
       "      <td>NaN</td>\n",
       "      <td>NaN</td>\n",
       "      <td>84.0</td>\n",
       "      <td>79.0</td>\n",
       "    </tr>\n",
       "  </tbody>\n",
       "</table>\n",
       "</div>"
      ],
      "text/plain": [
       "         Date Time Temperature Humidity  Temp   Hum\n",
       "0  2021-09-01   00         NaN      NaN  82.0  84.0\n",
       "1  2021-09-01   01         NaN      NaN  82.0  84.0\n",
       "2  2021-09-01   02         NaN      NaN  82.0  86.5\n",
       "3  2021-09-01   03         NaN      NaN  82.0  89.0\n",
       "4  2021-09-01   04         NaN      NaN  84.0  79.0"
      ]
     },
     "execution_count": 6,
     "metadata": {},
     "output_type": "execute_result"
    }
   ],
   "source": [
    "df_hr_wt.head()"
   ]
  },
  {
   "cell_type": "code",
   "execution_count": 8,
   "id": "d8582e60",
   "metadata": {},
   "outputs": [],
   "source": [
    "df_hr_wt.to_csv(\"Chennai_Weather.csv\", sep=',', index=False)"
   ]
  },
  {
   "cell_type": "code",
   "execution_count": 74,
   "id": "b6689ca7",
   "metadata": {},
   "outputs": [],
   "source": [
    "df_hr_wt = pd.read_csv(\"Chennai_Weather.csv\")"
   ]
  },
  {
   "cell_type": "code",
   "execution_count": 75,
   "id": "ee444ec5",
   "metadata": {
    "scrolled": true
   },
   "outputs": [
    {
     "data": {
      "text/html": [
       "<div>\n",
       "<style scoped>\n",
       "    .dataframe tbody tr th:only-of-type {\n",
       "        vertical-align: middle;\n",
       "    }\n",
       "\n",
       "    .dataframe tbody tr th {\n",
       "        vertical-align: top;\n",
       "    }\n",
       "\n",
       "    .dataframe thead th {\n",
       "        text-align: right;\n",
       "    }\n",
       "</style>\n",
       "<table border=\"1\" class=\"dataframe\">\n",
       "  <thead>\n",
       "    <tr style=\"text-align: right;\">\n",
       "      <th></th>\n",
       "      <th>Date</th>\n",
       "      <th>Time</th>\n",
       "      <th>Temperature</th>\n",
       "      <th>Humidity</th>\n",
       "      <th>Temp</th>\n",
       "      <th>Hum</th>\n",
       "    </tr>\n",
       "  </thead>\n",
       "  <tbody>\n",
       "    <tr>\n",
       "      <th>0</th>\n",
       "      <td>2021-09-01</td>\n",
       "      <td>0</td>\n",
       "      <td>NaN</td>\n",
       "      <td>NaN</td>\n",
       "      <td>82.0</td>\n",
       "      <td>84.0</td>\n",
       "    </tr>\n",
       "    <tr>\n",
       "      <th>1</th>\n",
       "      <td>2021-09-01</td>\n",
       "      <td>1</td>\n",
       "      <td>NaN</td>\n",
       "      <td>NaN</td>\n",
       "      <td>82.0</td>\n",
       "      <td>84.0</td>\n",
       "    </tr>\n",
       "    <tr>\n",
       "      <th>2</th>\n",
       "      <td>2021-09-01</td>\n",
       "      <td>2</td>\n",
       "      <td>NaN</td>\n",
       "      <td>NaN</td>\n",
       "      <td>82.0</td>\n",
       "      <td>86.5</td>\n",
       "    </tr>\n",
       "    <tr>\n",
       "      <th>3</th>\n",
       "      <td>2021-09-01</td>\n",
       "      <td>3</td>\n",
       "      <td>NaN</td>\n",
       "      <td>NaN</td>\n",
       "      <td>82.0</td>\n",
       "      <td>89.0</td>\n",
       "    </tr>\n",
       "    <tr>\n",
       "      <th>4</th>\n",
       "      <td>2021-09-01</td>\n",
       "      <td>4</td>\n",
       "      <td>NaN</td>\n",
       "      <td>NaN</td>\n",
       "      <td>84.0</td>\n",
       "      <td>79.0</td>\n",
       "    </tr>\n",
       "  </tbody>\n",
       "</table>\n",
       "</div>"
      ],
      "text/plain": [
       "         Date  Time  Temperature  Humidity  Temp   Hum\n",
       "0  2021-09-01     0          NaN       NaN  82.0  84.0\n",
       "1  2021-09-01     1          NaN       NaN  82.0  84.0\n",
       "2  2021-09-01     2          NaN       NaN  82.0  86.5\n",
       "3  2021-09-01     3          NaN       NaN  82.0  89.0\n",
       "4  2021-09-01     4          NaN       NaN  84.0  79.0"
      ]
     },
     "execution_count": 75,
     "metadata": {},
     "output_type": "execute_result"
    }
   ],
   "source": [
    "df_hr_wt.head()"
   ]
  },
  {
   "cell_type": "code",
   "execution_count": 76,
   "id": "d12a306e",
   "metadata": {},
   "outputs": [
    {
     "data": {
      "text/plain": [
       "(8727, 6)"
      ]
     },
     "execution_count": 76,
     "metadata": {},
     "output_type": "execute_result"
    }
   ],
   "source": [
    "df_hr_wt.shape"
   ]
  },
  {
   "cell_type": "code",
   "execution_count": 77,
   "id": "254be4b4",
   "metadata": {},
   "outputs": [],
   "source": [
    "for i in dates:\n",
    "    if i not in list(df_hr_wt['Date'].unique()):\n",
    "        print(i)"
   ]
  },
  {
   "cell_type": "code",
   "execution_count": 78,
   "id": "71c2ec92",
   "metadata": {},
   "outputs": [],
   "source": [
    "df_hr_wt['Time']=df_hr_wt['Time'].astype(int)"
   ]
  },
  {
   "cell_type": "code",
   "execution_count": 79,
   "id": "14222e42",
   "metadata": {},
   "outputs": [
    {
     "name": "stdout",
     "output_type": "stream",
     "text": [
      "2021-09-29     23\n",
      "2021-10-05     23\n",
      "2021-11-01     23\n",
      "2022-02-01     21\n",
      "2022-05-18     23\n",
      "2022-06-11     22\n",
      "2022-07-02     23\n",
      "2022-07-19     23\n",
      "2022-08-18     13\n",
      "2022-08-19     13\n"
     ]
    }
   ],
   "source": [
    "ms_dates = []\n",
    "for d in dates:\n",
    "    ct=df_hr_wt.loc[df_hr_wt.Date == d, 'Time'].count()\n",
    "    if (ct!=24):\n",
    "        print(d,\"   \",ct)\n",
    "        ms_dates.append(d)"
   ]
  },
  {
   "cell_type": "code",
   "execution_count": 82,
   "id": "12e23f27",
   "metadata": {},
   "outputs": [],
   "source": [
    "count=0\n",
    "for i in ms_dates:\n",
    "    for j in range(0,24):\n",
    "        if j not in list(df_hr_wt.loc[df_hr_wt.Date == i, 'Time']):\n",
    "            row = [i,j,np.nan,np.nan,np.nan,np.nan]\n",
    "            #print(row)\n",
    "            df_hr_wt.loc[len(df_hr_wt.index)] = row"
   ]
  },
  {
   "cell_type": "code",
   "execution_count": 83,
   "id": "29011d29",
   "metadata": {},
   "outputs": [
    {
     "data": {
      "text/plain": [
       "(8760, 6)"
      ]
     },
     "execution_count": 83,
     "metadata": {},
     "output_type": "execute_result"
    }
   ],
   "source": [
    "df_hr_wt.shape"
   ]
  },
  {
   "cell_type": "code",
   "execution_count": 84,
   "id": "888a11a5",
   "metadata": {},
   "outputs": [],
   "source": [
    "for d in dates:\n",
    "    ct=df_hr_wt.loc[df_hr_wt.Date == d, 'Time'].count()\n",
    "    if (ct!=24):\n",
    "        print(d,\"   \",ct)"
   ]
  },
  {
   "cell_type": "code",
   "execution_count": 98,
   "id": "8b40f7d8",
   "metadata": {},
   "outputs": [],
   "source": [
    "df_hr_wt['Temp']=df_hr_wt['Temp'].fillna(df_hr_wt.groupby(df_hr_wt['Date'])['Temp'].transform('mean'))\n",
    "df_hr_wt['Hum']=df_hr_wt['Hum'].fillna(df_hr_wt.groupby(df_hr_wt['Date'])['Hum'].transform('mean'))"
   ]
  },
  {
   "cell_type": "code",
   "execution_count": 99,
   "id": "77216792",
   "metadata": {},
   "outputs": [
    {
     "data": {
      "text/plain": [
       "Date              0\n",
       "Time              0\n",
       "Temperature    8760\n",
       "Humidity       8760\n",
       "Temp              0\n",
       "Hum               0\n",
       "dtype: int64"
      ]
     },
     "execution_count": 99,
     "metadata": {},
     "output_type": "execute_result"
    }
   ],
   "source": [
    "df_hr_wt.isnull().sum()"
   ]
  },
  {
   "cell_type": "code",
   "execution_count": 100,
   "id": "43ebe56f",
   "metadata": {},
   "outputs": [],
   "source": [
    "df_hr_wt = df_hr_wt.drop(['Temperature','Humidity'],axis=1)"
   ]
  },
  {
   "cell_type": "code",
   "execution_count": 101,
   "id": "bab34dc2",
   "metadata": {},
   "outputs": [
    {
     "data": {
      "text/html": [
       "<div>\n",
       "<style scoped>\n",
       "    .dataframe tbody tr th:only-of-type {\n",
       "        vertical-align: middle;\n",
       "    }\n",
       "\n",
       "    .dataframe tbody tr th {\n",
       "        vertical-align: top;\n",
       "    }\n",
       "\n",
       "    .dataframe thead th {\n",
       "        text-align: right;\n",
       "    }\n",
       "</style>\n",
       "<table border=\"1\" class=\"dataframe\">\n",
       "  <thead>\n",
       "    <tr style=\"text-align: right;\">\n",
       "      <th></th>\n",
       "      <th>Date</th>\n",
       "      <th>Time</th>\n",
       "      <th>Temp</th>\n",
       "      <th>Hum</th>\n",
       "    </tr>\n",
       "  </thead>\n",
       "  <tbody>\n",
       "    <tr>\n",
       "      <th>0</th>\n",
       "      <td>2021-09-01</td>\n",
       "      <td>0</td>\n",
       "      <td>82.0</td>\n",
       "      <td>84.0</td>\n",
       "    </tr>\n",
       "    <tr>\n",
       "      <th>1</th>\n",
       "      <td>2021-09-01</td>\n",
       "      <td>1</td>\n",
       "      <td>82.0</td>\n",
       "      <td>84.0</td>\n",
       "    </tr>\n",
       "    <tr>\n",
       "      <th>2</th>\n",
       "      <td>2021-09-01</td>\n",
       "      <td>2</td>\n",
       "      <td>82.0</td>\n",
       "      <td>86.5</td>\n",
       "    </tr>\n",
       "    <tr>\n",
       "      <th>3</th>\n",
       "      <td>2021-09-01</td>\n",
       "      <td>3</td>\n",
       "      <td>82.0</td>\n",
       "      <td>89.0</td>\n",
       "    </tr>\n",
       "    <tr>\n",
       "      <th>4</th>\n",
       "      <td>2021-09-01</td>\n",
       "      <td>4</td>\n",
       "      <td>84.0</td>\n",
       "      <td>79.0</td>\n",
       "    </tr>\n",
       "  </tbody>\n",
       "</table>\n",
       "</div>"
      ],
      "text/plain": [
       "         Date  Time  Temp   Hum\n",
       "0  2021-09-01     0  82.0  84.0\n",
       "1  2021-09-01     1  82.0  84.0\n",
       "2  2021-09-01     2  82.0  86.5\n",
       "3  2021-09-01     3  82.0  89.0\n",
       "4  2021-09-01     4  84.0  79.0"
      ]
     },
     "execution_count": 101,
     "metadata": {},
     "output_type": "execute_result"
    }
   ],
   "source": [
    "df_hr_wt.head()"
   ]
  },
  {
   "cell_type": "code",
   "execution_count": 102,
   "id": "57f78aad",
   "metadata": {},
   "outputs": [],
   "source": [
    "df_hr_wt.to_csv(\"Chennai_Weather.csv\", sep=',', index=False)"
   ]
  }
 ],
 "metadata": {
  "kernelspec": {
   "display_name": "Python 3 (ipykernel)",
   "language": "python",
   "name": "python3"
  },
  "language_info": {
   "codemirror_mode": {
    "name": "ipython",
    "version": 3
   },
   "file_extension": ".py",
   "mimetype": "text/x-python",
   "name": "python",
   "nbconvert_exporter": "python",
   "pygments_lexer": "ipython3",
   "version": "3.11.2"
  }
 },
 "nbformat": 4,
 "nbformat_minor": 5
}
