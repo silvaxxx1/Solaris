{
 "cells": [
  {
   "cell_type": "code",
   "execution_count": 1,
   "id": "a1743bb6",
   "metadata": {},
   "outputs": [],
   "source": [
    "from selenium import webdriver\n",
    "from bs4 import BeautifulSoup\n",
    "\n",
    "def driversetup():\n",
    "    options = webdriver.ChromeOptions()\n",
    "    #run Selenium in headless mode\n",
    "    options.add_argument('--headless')\n",
    "    options.add_argument('--no-sandbox')\n",
    "    #overcome limited resource problems\n",
    "    options.add_argument('--disable-dev-shm-usage')\n",
    "    options.add_argument(\"lang=en\")\n",
    "    #open Browser in maximized mode\n",
    "    options.add_argument(\"start-maximized\")\n",
    "    #disable infobars\n",
    "    options.add_argument(\"disable-infobars\")\n",
    "    #disable extension\n",
    "    options.add_argument(\"--disable-extensions\")\n",
    "    options.add_argument(\"--incognito\")\n",
    "    options.add_argument(\"--disable-blink-features=AutomationControlled\")\n",
    "    \n",
    "    driver = webdriver.Chrome(options=options)\n",
    "\n",
    "    driver.execute_script(\"Object.defineProperty(navigator, 'webdriver', {get: () => undefined});\")\n",
    "\n",
    "    return driver"
   ]
  },
  {
   "cell_type": "code",
   "execution_count": 2,
   "id": "601a5aa5",
   "metadata": {},
   "outputs": [],
   "source": [
    "import pandas as pd\n",
    "from selenium.webdriver.common.by import By\n",
    "from selenium.webdriver.support.ui import WebDriverWait\n",
    "from selenium.webdriver.support import expected_conditions as EC\n",
    "from selenium import webdriver\n",
    "from bs4 import BeautifulSoup\n",
    "\n",
    "def extract(url,year):\n",
    "    #'https://www.wunderground.com/history/monthly/in/chennai/VOMM/date/2021-9'\n",
    "    driver = webdriver.Chrome()\n",
    "    driver.get(url)\n",
    "    tables = WebDriverWait(driver,20).until(EC.presence_of_all_elements_located((By.CSS_SELECTOR, \"table\")))\n",
    "    soup = BeautifulSoup(driver.page_source, 'html.parser')\n",
    "    div = soup.find('div',{'class':'observation-table ng-star-inserted'})\n",
    "    mon_list = ['Jan','Feb','Mar','Apr','May','Jun','Jul','Aug','Sep','Oct','Nov','Dec']\n",
    "    date_list = []\n",
    "    max_list = []\n",
    "    avg_list = []\n",
    "    min_list = []\n",
    "    for tag in div:\n",
    "        try:\n",
    "            td = tag.find_all('td', {'class': 'ng-star-inserted'})\n",
    "            count = 0\n",
    "            for t in  td:\n",
    "                row=t.find_all('tr',{'class': 'ng-star-inserted'})\n",
    "                flag = 0\n",
    "                for r in row:\n",
    "                    txt = r.text.strip()\n",
    "                    if txt in mon_list:\n",
    "                        flag = 1\n",
    "                    if flag==1:\n",
    "                        date_list.append(txt)\n",
    "                    if flag==0:\n",
    "                        if txt.isalpha():\n",
    "                            pass\n",
    "                        else:\n",
    "                            lt = txt.split()\n",
    "                            max_list.append(lt[0])\n",
    "                            avg_list.append(lt[1])\n",
    "                            min_list.append(lt[2])\n",
    "\n",
    "        except:\n",
    "            pass\n",
    "\n",
    "\n",
    "    val = date_list.pop(0)\n",
    "    mon_idx = mon_list.index(val)+1\n",
    "    for i in range(0,len(date_list)):\n",
    "        if mon_idx<10:\n",
    "            date_list[i] = date_list[i]+\"-0\"+str(mon_idx)+\"-\"+str(year)\n",
    "        else:\n",
    "            date_list[i] = date_list[i]+\"-\"+str(mon_idx)+\"-\"+str(year)\n",
    "    \n",
    "    temperature=[]\n",
    "    humidity=[]\n",
    "    count=0\n",
    "\n",
    "    for i in avg_list:\n",
    "        flag=0\n",
    "        if i=='Avg':\n",
    "            count=count+1\n",
    "            flag=1\n",
    "        if count==1 and flag==0:\n",
    "            temperature.append(i)\n",
    "        elif count==3 and flag==0:\n",
    "            humidity.append(i)\n",
    "    dict={'Date':date_list,'Temperature':temperature,'Humidity':humidity}\n",
    "    df = pd.DataFrame(dict)\n",
    "    driver.quit()\n",
    "    return df"
   ]
  },
  {
   "cell_type": "code",
   "execution_count": 3,
   "id": "627e5de3",
   "metadata": {},
   "outputs": [],
   "source": [
    "df1=extract('https://www.wunderground.com/history/monthly/in/chennai/VOMM/date/2021-9',2021)"
   ]
  },
  {
   "cell_type": "code",
   "execution_count": 4,
   "id": "22bd6d42",
   "metadata": {},
   "outputs": [
    {
     "data": {
      "text/html": [
       "<div>\n",
       "<style scoped>\n",
       "    .dataframe tbody tr th:only-of-type {\n",
       "        vertical-align: middle;\n",
       "    }\n",
       "\n",
       "    .dataframe tbody tr th {\n",
       "        vertical-align: top;\n",
       "    }\n",
       "\n",
       "    .dataframe thead th {\n",
       "        text-align: right;\n",
       "    }\n",
       "</style>\n",
       "<table border=\"1\" class=\"dataframe\">\n",
       "  <thead>\n",
       "    <tr style=\"text-align: right;\">\n",
       "      <th></th>\n",
       "      <th>Date</th>\n",
       "      <th>Temperature</th>\n",
       "      <th>Humidity</th>\n",
       "    </tr>\n",
       "  </thead>\n",
       "  <tbody>\n",
       "    <tr>\n",
       "      <th>0</th>\n",
       "      <td>1-09-2021</td>\n",
       "      <td>85.3</td>\n",
       "      <td>78.3</td>\n",
       "    </tr>\n",
       "    <tr>\n",
       "      <th>1</th>\n",
       "      <td>2-09-2021</td>\n",
       "      <td>82.9</td>\n",
       "      <td>79.1</td>\n",
       "    </tr>\n",
       "    <tr>\n",
       "      <th>2</th>\n",
       "      <td>3-09-2021</td>\n",
       "      <td>84.5</td>\n",
       "      <td>76.8</td>\n",
       "    </tr>\n",
       "    <tr>\n",
       "      <th>3</th>\n",
       "      <td>4-09-2021</td>\n",
       "      <td>83.0</td>\n",
       "      <td>77.3</td>\n",
       "    </tr>\n",
       "    <tr>\n",
       "      <th>4</th>\n",
       "      <td>5-09-2021</td>\n",
       "      <td>82.8</td>\n",
       "      <td>78.3</td>\n",
       "    </tr>\n",
       "  </tbody>\n",
       "</table>\n",
       "</div>"
      ],
      "text/plain": [
       "        Date Temperature Humidity\n",
       "0  1-09-2021        85.3     78.3\n",
       "1  2-09-2021        82.9     79.1\n",
       "2  3-09-2021        84.5     76.8\n",
       "3  4-09-2021        83.0     77.3\n",
       "4  5-09-2021        82.8     78.3"
      ]
     },
     "execution_count": 4,
     "metadata": {},
     "output_type": "execute_result"
    }
   ],
   "source": [
    "df1.head()"
   ]
  },
  {
   "cell_type": "code",
   "execution_count": 5,
   "id": "2153790f",
   "metadata": {},
   "outputs": [
    {
     "data": {
      "text/plain": [
       "(30, 3)"
      ]
     },
     "execution_count": 5,
     "metadata": {},
     "output_type": "execute_result"
    }
   ],
   "source": [
    "df1.shape"
   ]
  },
  {
   "cell_type": "code",
   "execution_count": 6,
   "id": "e1d5e471",
   "metadata": {},
   "outputs": [
    {
     "data": {
      "text/plain": [
       "(60, 3)"
      ]
     },
     "execution_count": 6,
     "metadata": {},
     "output_type": "execute_result"
    }
   ],
   "source": [
    "frames = [df1, df1]\n",
    "df1 = pd.concat(frames)\n",
    "df1.shape"
   ]
  },
  {
   "cell_type": "code",
   "execution_count": 7,
   "id": "a6389894",
   "metadata": {},
   "outputs": [],
   "source": [
    "#\n",
    "df=pd.DataFrame(columns=[\"Date\",\"Temperature\",\"Humidity\"])\n",
    "link_lst = ['2021-9','2021-10','2021-11','2021-12','2022-1','2022-2','2022-3','2022-4','2022-5','2022-6','2022-7','2022-8']\n",
    "for lnk in link_lst:\n",
    "    url = 'https://www.wunderground.com/history/monthly/in/chennai/VOMM/date/'+lnk\n",
    "    year = int(lnk[:4])\n",
    "    df_new = extract(url,year)\n",
    "    frames = [df, df_new]\n",
    "    df = pd.concat(frames)"
   ]
  },
  {
   "cell_type": "code",
   "execution_count": 8,
   "id": "e2c5b14d",
   "metadata": {},
   "outputs": [
    {
     "data": {
      "text/plain": [
       "(365, 3)"
      ]
     },
     "execution_count": 8,
     "metadata": {},
     "output_type": "execute_result"
    }
   ],
   "source": [
    "df.shape"
   ]
  },
  {
   "cell_type": "code",
   "execution_count": 10,
   "id": "c636e458",
   "metadata": {},
   "outputs": [
    {
     "data": {
      "text/html": [
       "<div>\n",
       "<style scoped>\n",
       "    .dataframe tbody tr th:only-of-type {\n",
       "        vertical-align: middle;\n",
       "    }\n",
       "\n",
       "    .dataframe tbody tr th {\n",
       "        vertical-align: top;\n",
       "    }\n",
       "\n",
       "    .dataframe thead th {\n",
       "        text-align: right;\n",
       "    }\n",
       "</style>\n",
       "<table border=\"1\" class=\"dataframe\">\n",
       "  <thead>\n",
       "    <tr style=\"text-align: right;\">\n",
       "      <th></th>\n",
       "      <th>Date</th>\n",
       "      <th>Temperature</th>\n",
       "      <th>Humidity</th>\n",
       "    </tr>\n",
       "  </thead>\n",
       "  <tbody>\n",
       "    <tr>\n",
       "      <th>0</th>\n",
       "      <td>1-09-2021</td>\n",
       "      <td>85.3</td>\n",
       "      <td>78.3</td>\n",
       "    </tr>\n",
       "    <tr>\n",
       "      <th>1</th>\n",
       "      <td>2-09-2021</td>\n",
       "      <td>82.9</td>\n",
       "      <td>79.1</td>\n",
       "    </tr>\n",
       "    <tr>\n",
       "      <th>2</th>\n",
       "      <td>3-09-2021</td>\n",
       "      <td>84.5</td>\n",
       "      <td>76.8</td>\n",
       "    </tr>\n",
       "    <tr>\n",
       "      <th>3</th>\n",
       "      <td>4-09-2021</td>\n",
       "      <td>83.0</td>\n",
       "      <td>77.3</td>\n",
       "    </tr>\n",
       "    <tr>\n",
       "      <th>4</th>\n",
       "      <td>5-09-2021</td>\n",
       "      <td>82.8</td>\n",
       "      <td>78.3</td>\n",
       "    </tr>\n",
       "  </tbody>\n",
       "</table>\n",
       "</div>"
      ],
      "text/plain": [
       "        Date Temperature Humidity\n",
       "0  1-09-2021        85.3     78.3\n",
       "1  2-09-2021        82.9     79.1\n",
       "2  3-09-2021        84.5     76.8\n",
       "3  4-09-2021        83.0     77.3\n",
       "4  5-09-2021        82.8     78.3"
      ]
     },
     "execution_count": 10,
     "metadata": {},
     "output_type": "execute_result"
    }
   ],
   "source": [
    "df.head()"
   ]
  },
  {
   "cell_type": "code",
   "execution_count": 9,
   "id": "d8582e60",
   "metadata": {},
   "outputs": [],
   "source": [
    "df.to_csv(\"Chennai_Weather.csv\", sep=',', index=False)"
   ]
  }
 ],
 "metadata": {
  "kernelspec": {
   "display_name": "Python 3 (ipykernel)",
   "language": "python",
   "name": "python3"
  },
  "language_info": {
   "codemirror_mode": {
    "name": "ipython",
    "version": 3
   },
   "file_extension": ".py",
   "mimetype": "text/x-python",
   "name": "python",
   "nbconvert_exporter": "python",
   "pygments_lexer": "ipython3",
   "version": "3.11.2"
  }
 },
 "nbformat": 4,
 "nbformat_minor": 5
}
