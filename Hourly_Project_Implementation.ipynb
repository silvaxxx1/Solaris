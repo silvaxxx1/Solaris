{
  "cells": [
    {
      "cell_type": "code",
      "execution_count": 1,
      "id": "e3732828",
      "metadata": {
        "id": "e3732828"
      },
      "outputs": [],
      "source": [
        "import pandas as pd\n",
        "import numpy as np\n",
        "\n",
        "from sklearn.metrics import r2_score, mean_squared_error, mean_absolute_error"
      ]
    },
    {
      "cell_type": "code",
      "execution_count": 2,
      "id": "f396e5b9",
      "metadata": {
        "colab": {
          "base_uri": "https://localhost:8080/",
          "height": 206
        },
        "id": "f396e5b9",
        "outputId": "7dc3b08d-7e2a-4704-857f-a46bd4a1cf4b"
      },
      "outputs": [
        {
          "output_type": "execute_result",
          "data": {
            "text/plain": [
              "         Date  Time  Temp   Hum\n",
              "0  2021-09-01     0  82.0  84.0\n",
              "1  2021-09-01     1  82.0  84.0\n",
              "2  2021-09-01     2  82.0  86.5\n",
              "3  2021-09-01     3  82.0  89.0\n",
              "4  2021-09-01     4  84.0  79.0"
            ],
            "text/html": [
              "\n",
              "  <div id=\"df-6f37811c-e737-4bc2-b7fa-9d017efbab08\">\n",
              "    <div class=\"colab-df-container\">\n",
              "      <div>\n",
              "<style scoped>\n",
              "    .dataframe tbody tr th:only-of-type {\n",
              "        vertical-align: middle;\n",
              "    }\n",
              "\n",
              "    .dataframe tbody tr th {\n",
              "        vertical-align: top;\n",
              "    }\n",
              "\n",
              "    .dataframe thead th {\n",
              "        text-align: right;\n",
              "    }\n",
              "</style>\n",
              "<table border=\"1\" class=\"dataframe\">\n",
              "  <thead>\n",
              "    <tr style=\"text-align: right;\">\n",
              "      <th></th>\n",
              "      <th>Date</th>\n",
              "      <th>Time</th>\n",
              "      <th>Temp</th>\n",
              "      <th>Hum</th>\n",
              "    </tr>\n",
              "  </thead>\n",
              "  <tbody>\n",
              "    <tr>\n",
              "      <th>0</th>\n",
              "      <td>2021-09-01</td>\n",
              "      <td>0</td>\n",
              "      <td>82.0</td>\n",
              "      <td>84.0</td>\n",
              "    </tr>\n",
              "    <tr>\n",
              "      <th>1</th>\n",
              "      <td>2021-09-01</td>\n",
              "      <td>1</td>\n",
              "      <td>82.0</td>\n",
              "      <td>84.0</td>\n",
              "    </tr>\n",
              "    <tr>\n",
              "      <th>2</th>\n",
              "      <td>2021-09-01</td>\n",
              "      <td>2</td>\n",
              "      <td>82.0</td>\n",
              "      <td>86.5</td>\n",
              "    </tr>\n",
              "    <tr>\n",
              "      <th>3</th>\n",
              "      <td>2021-09-01</td>\n",
              "      <td>3</td>\n",
              "      <td>82.0</td>\n",
              "      <td>89.0</td>\n",
              "    </tr>\n",
              "    <tr>\n",
              "      <th>4</th>\n",
              "      <td>2021-09-01</td>\n",
              "      <td>4</td>\n",
              "      <td>84.0</td>\n",
              "      <td>79.0</td>\n",
              "    </tr>\n",
              "  </tbody>\n",
              "</table>\n",
              "</div>\n",
              "      <button class=\"colab-df-convert\" onclick=\"convertToInteractive('df-6f37811c-e737-4bc2-b7fa-9d017efbab08')\"\n",
              "              title=\"Convert this dataframe to an interactive table.\"\n",
              "              style=\"display:none;\">\n",
              "        \n",
              "  <svg xmlns=\"http://www.w3.org/2000/svg\" height=\"24px\"viewBox=\"0 0 24 24\"\n",
              "       width=\"24px\">\n",
              "    <path d=\"M0 0h24v24H0V0z\" fill=\"none\"/>\n",
              "    <path d=\"M18.56 5.44l.94 2.06.94-2.06 2.06-.94-2.06-.94-.94-2.06-.94 2.06-2.06.94zm-11 1L8.5 8.5l.94-2.06 2.06-.94-2.06-.94L8.5 2.5l-.94 2.06-2.06.94zm10 10l.94 2.06.94-2.06 2.06-.94-2.06-.94-.94-2.06-.94 2.06-2.06.94z\"/><path d=\"M17.41 7.96l-1.37-1.37c-.4-.4-.92-.59-1.43-.59-.52 0-1.04.2-1.43.59L10.3 9.45l-7.72 7.72c-.78.78-.78 2.05 0 2.83L4 21.41c.39.39.9.59 1.41.59.51 0 1.02-.2 1.41-.59l7.78-7.78 2.81-2.81c.8-.78.8-2.07 0-2.86zM5.41 20L4 18.59l7.72-7.72 1.47 1.35L5.41 20z\"/>\n",
              "  </svg>\n",
              "      </button>\n",
              "      \n",
              "  <style>\n",
              "    .colab-df-container {\n",
              "      display:flex;\n",
              "      flex-wrap:wrap;\n",
              "      gap: 12px;\n",
              "    }\n",
              "\n",
              "    .colab-df-convert {\n",
              "      background-color: #E8F0FE;\n",
              "      border: none;\n",
              "      border-radius: 50%;\n",
              "      cursor: pointer;\n",
              "      display: none;\n",
              "      fill: #1967D2;\n",
              "      height: 32px;\n",
              "      padding: 0 0 0 0;\n",
              "      width: 32px;\n",
              "    }\n",
              "\n",
              "    .colab-df-convert:hover {\n",
              "      background-color: #E2EBFA;\n",
              "      box-shadow: 0px 1px 2px rgba(60, 64, 67, 0.3), 0px 1px 3px 1px rgba(60, 64, 67, 0.15);\n",
              "      fill: #174EA6;\n",
              "    }\n",
              "\n",
              "    [theme=dark] .colab-df-convert {\n",
              "      background-color: #3B4455;\n",
              "      fill: #D2E3FC;\n",
              "    }\n",
              "\n",
              "    [theme=dark] .colab-df-convert:hover {\n",
              "      background-color: #434B5C;\n",
              "      box-shadow: 0px 1px 3px 1px rgba(0, 0, 0, 0.15);\n",
              "      filter: drop-shadow(0px 1px 2px rgba(0, 0, 0, 0.3));\n",
              "      fill: #FFFFFF;\n",
              "    }\n",
              "  </style>\n",
              "\n",
              "      <script>\n",
              "        const buttonEl =\n",
              "          document.querySelector('#df-6f37811c-e737-4bc2-b7fa-9d017efbab08 button.colab-df-convert');\n",
              "        buttonEl.style.display =\n",
              "          google.colab.kernel.accessAllowed ? 'block' : 'none';\n",
              "\n",
              "        async function convertToInteractive(key) {\n",
              "          const element = document.querySelector('#df-6f37811c-e737-4bc2-b7fa-9d017efbab08');\n",
              "          const dataTable =\n",
              "            await google.colab.kernel.invokeFunction('convertToInteractive',\n",
              "                                                     [key], {});\n",
              "          if (!dataTable) return;\n",
              "\n",
              "          const docLinkHtml = 'Like what you see? Visit the ' +\n",
              "            '<a target=\"_blank\" href=https://colab.research.google.com/notebooks/data_table.ipynb>data table notebook</a>'\n",
              "            + ' to learn more about interactive tables.';\n",
              "          element.innerHTML = '';\n",
              "          dataTable['output_type'] = 'display_data';\n",
              "          await google.colab.output.renderOutput(dataTable, element);\n",
              "          const docLink = document.createElement('div');\n",
              "          docLink.innerHTML = docLinkHtml;\n",
              "          element.appendChild(docLink);\n",
              "        }\n",
              "      </script>\n",
              "    </div>\n",
              "  </div>\n",
              "  "
            ]
          },
          "metadata": {},
          "execution_count": 2
        }
      ],
      "source": [
        "df1 = pd.read_csv(\"Chennai_Weather.csv\")\n",
        "df1.head()"
      ]
    },
    {
      "cell_type": "code",
      "execution_count": 3,
      "id": "5f976ad2",
      "metadata": {
        "colab": {
          "base_uri": "https://localhost:8080/",
          "height": 206
        },
        "id": "5f976ad2",
        "outputId": "092b3b69-df81-40ed-dacf-b080c79859c1"
      },
      "outputs": [
        {
          "output_type": "execute_result",
          "data": {
            "text/plain": [
              "         Date  Hour  Irradiance  Power\n",
              "0  2021-09-01     0           0    0.0\n",
              "1  2021-09-01     1           0    0.0\n",
              "2  2021-09-01     2           0    0.0\n",
              "3  2021-09-01     3           0    0.0\n",
              "4  2021-09-01     4           0    0.0"
            ],
            "text/html": [
              "\n",
              "  <div id=\"df-ec73fb74-92cf-4732-94ce-b968f413cd16\">\n",
              "    <div class=\"colab-df-container\">\n",
              "      <div>\n",
              "<style scoped>\n",
              "    .dataframe tbody tr th:only-of-type {\n",
              "        vertical-align: middle;\n",
              "    }\n",
              "\n",
              "    .dataframe tbody tr th {\n",
              "        vertical-align: top;\n",
              "    }\n",
              "\n",
              "    .dataframe thead th {\n",
              "        text-align: right;\n",
              "    }\n",
              "</style>\n",
              "<table border=\"1\" class=\"dataframe\">\n",
              "  <thead>\n",
              "    <tr style=\"text-align: right;\">\n",
              "      <th></th>\n",
              "      <th>Date</th>\n",
              "      <th>Hour</th>\n",
              "      <th>Irradiance</th>\n",
              "      <th>Power</th>\n",
              "    </tr>\n",
              "  </thead>\n",
              "  <tbody>\n",
              "    <tr>\n",
              "      <th>0</th>\n",
              "      <td>2021-09-01</td>\n",
              "      <td>0</td>\n",
              "      <td>0</td>\n",
              "      <td>0.0</td>\n",
              "    </tr>\n",
              "    <tr>\n",
              "      <th>1</th>\n",
              "      <td>2021-09-01</td>\n",
              "      <td>1</td>\n",
              "      <td>0</td>\n",
              "      <td>0.0</td>\n",
              "    </tr>\n",
              "    <tr>\n",
              "      <th>2</th>\n",
              "      <td>2021-09-01</td>\n",
              "      <td>2</td>\n",
              "      <td>0</td>\n",
              "      <td>0.0</td>\n",
              "    </tr>\n",
              "    <tr>\n",
              "      <th>3</th>\n",
              "      <td>2021-09-01</td>\n",
              "      <td>3</td>\n",
              "      <td>0</td>\n",
              "      <td>0.0</td>\n",
              "    </tr>\n",
              "    <tr>\n",
              "      <th>4</th>\n",
              "      <td>2021-09-01</td>\n",
              "      <td>4</td>\n",
              "      <td>0</td>\n",
              "      <td>0.0</td>\n",
              "    </tr>\n",
              "  </tbody>\n",
              "</table>\n",
              "</div>\n",
              "      <button class=\"colab-df-convert\" onclick=\"convertToInteractive('df-ec73fb74-92cf-4732-94ce-b968f413cd16')\"\n",
              "              title=\"Convert this dataframe to an interactive table.\"\n",
              "              style=\"display:none;\">\n",
              "        \n",
              "  <svg xmlns=\"http://www.w3.org/2000/svg\" height=\"24px\"viewBox=\"0 0 24 24\"\n",
              "       width=\"24px\">\n",
              "    <path d=\"M0 0h24v24H0V0z\" fill=\"none\"/>\n",
              "    <path d=\"M18.56 5.44l.94 2.06.94-2.06 2.06-.94-2.06-.94-.94-2.06-.94 2.06-2.06.94zm-11 1L8.5 8.5l.94-2.06 2.06-.94-2.06-.94L8.5 2.5l-.94 2.06-2.06.94zm10 10l.94 2.06.94-2.06 2.06-.94-2.06-.94-.94-2.06-.94 2.06-2.06.94z\"/><path d=\"M17.41 7.96l-1.37-1.37c-.4-.4-.92-.59-1.43-.59-.52 0-1.04.2-1.43.59L10.3 9.45l-7.72 7.72c-.78.78-.78 2.05 0 2.83L4 21.41c.39.39.9.59 1.41.59.51 0 1.02-.2 1.41-.59l7.78-7.78 2.81-2.81c.8-.78.8-2.07 0-2.86zM5.41 20L4 18.59l7.72-7.72 1.47 1.35L5.41 20z\"/>\n",
              "  </svg>\n",
              "      </button>\n",
              "      \n",
              "  <style>\n",
              "    .colab-df-container {\n",
              "      display:flex;\n",
              "      flex-wrap:wrap;\n",
              "      gap: 12px;\n",
              "    }\n",
              "\n",
              "    .colab-df-convert {\n",
              "      background-color: #E8F0FE;\n",
              "      border: none;\n",
              "      border-radius: 50%;\n",
              "      cursor: pointer;\n",
              "      display: none;\n",
              "      fill: #1967D2;\n",
              "      height: 32px;\n",
              "      padding: 0 0 0 0;\n",
              "      width: 32px;\n",
              "    }\n",
              "\n",
              "    .colab-df-convert:hover {\n",
              "      background-color: #E2EBFA;\n",
              "      box-shadow: 0px 1px 2px rgba(60, 64, 67, 0.3), 0px 1px 3px 1px rgba(60, 64, 67, 0.15);\n",
              "      fill: #174EA6;\n",
              "    }\n",
              "\n",
              "    [theme=dark] .colab-df-convert {\n",
              "      background-color: #3B4455;\n",
              "      fill: #D2E3FC;\n",
              "    }\n",
              "\n",
              "    [theme=dark] .colab-df-convert:hover {\n",
              "      background-color: #434B5C;\n",
              "      box-shadow: 0px 1px 3px 1px rgba(0, 0, 0, 0.15);\n",
              "      filter: drop-shadow(0px 1px 2px rgba(0, 0, 0, 0.3));\n",
              "      fill: #FFFFFF;\n",
              "    }\n",
              "  </style>\n",
              "\n",
              "      <script>\n",
              "        const buttonEl =\n",
              "          document.querySelector('#df-ec73fb74-92cf-4732-94ce-b968f413cd16 button.colab-df-convert');\n",
              "        buttonEl.style.display =\n",
              "          google.colab.kernel.accessAllowed ? 'block' : 'none';\n",
              "\n",
              "        async function convertToInteractive(key) {\n",
              "          const element = document.querySelector('#df-ec73fb74-92cf-4732-94ce-b968f413cd16');\n",
              "          const dataTable =\n",
              "            await google.colab.kernel.invokeFunction('convertToInteractive',\n",
              "                                                     [key], {});\n",
              "          if (!dataTable) return;\n",
              "\n",
              "          const docLinkHtml = 'Like what you see? Visit the ' +\n",
              "            '<a target=\"_blank\" href=https://colab.research.google.com/notebooks/data_table.ipynb>data table notebook</a>'\n",
              "            + ' to learn more about interactive tables.';\n",
              "          element.innerHTML = '';\n",
              "          dataTable['output_type'] = 'display_data';\n",
              "          await google.colab.output.renderOutput(dataTable, element);\n",
              "          const docLink = document.createElement('div');\n",
              "          docLink.innerHTML = docLinkHtml;\n",
              "          element.appendChild(docLink);\n",
              "        }\n",
              "      </script>\n",
              "    </div>\n",
              "  </div>\n",
              "  "
            ]
          },
          "metadata": {},
          "execution_count": 3
        }
      ],
      "source": [
        "df2 = pd.read_csv(\"VIT_Solar_Power_hourly.csv\")\n",
        "df2.head()"
      ]
    },
    {
      "cell_type": "code",
      "execution_count": 4,
      "id": "d1ad1dcd",
      "metadata": {
        "colab": {
          "base_uri": "https://localhost:8080/",
          "height": 206
        },
        "id": "d1ad1dcd",
        "outputId": "cee0bb6b-ce5a-4107-e584-49b0607100c3"
      },
      "outputs": [
        {
          "output_type": "execute_result",
          "data": {
            "text/plain": [
              "       Date_x  Hour  Irradiance  Power      Date_y  Time  Temp   Hum\n",
              "0  2021-09-01     0           0    0.0  2021-09-01     0  82.0  84.0\n",
              "1  2021-09-01     1           0    0.0  2021-09-01     1  82.0  84.0\n",
              "2  2021-09-01     2           0    0.0  2021-09-01     2  82.0  86.5\n",
              "3  2021-09-01     3           0    0.0  2021-09-01     3  82.0  89.0\n",
              "4  2021-09-01     4           0    0.0  2021-09-01     4  84.0  79.0"
            ],
            "text/html": [
              "\n",
              "  <div id=\"df-504aef8f-d2a3-4922-8430-dc31f7e65081\">\n",
              "    <div class=\"colab-df-container\">\n",
              "      <div>\n",
              "<style scoped>\n",
              "    .dataframe tbody tr th:only-of-type {\n",
              "        vertical-align: middle;\n",
              "    }\n",
              "\n",
              "    .dataframe tbody tr th {\n",
              "        vertical-align: top;\n",
              "    }\n",
              "\n",
              "    .dataframe thead th {\n",
              "        text-align: right;\n",
              "    }\n",
              "</style>\n",
              "<table border=\"1\" class=\"dataframe\">\n",
              "  <thead>\n",
              "    <tr style=\"text-align: right;\">\n",
              "      <th></th>\n",
              "      <th>Date_x</th>\n",
              "      <th>Hour</th>\n",
              "      <th>Irradiance</th>\n",
              "      <th>Power</th>\n",
              "      <th>Date_y</th>\n",
              "      <th>Time</th>\n",
              "      <th>Temp</th>\n",
              "      <th>Hum</th>\n",
              "    </tr>\n",
              "  </thead>\n",
              "  <tbody>\n",
              "    <tr>\n",
              "      <th>0</th>\n",
              "      <td>2021-09-01</td>\n",
              "      <td>0</td>\n",
              "      <td>0</td>\n",
              "      <td>0.0</td>\n",
              "      <td>2021-09-01</td>\n",
              "      <td>0</td>\n",
              "      <td>82.0</td>\n",
              "      <td>84.0</td>\n",
              "    </tr>\n",
              "    <tr>\n",
              "      <th>1</th>\n",
              "      <td>2021-09-01</td>\n",
              "      <td>1</td>\n",
              "      <td>0</td>\n",
              "      <td>0.0</td>\n",
              "      <td>2021-09-01</td>\n",
              "      <td>1</td>\n",
              "      <td>82.0</td>\n",
              "      <td>84.0</td>\n",
              "    </tr>\n",
              "    <tr>\n",
              "      <th>2</th>\n",
              "      <td>2021-09-01</td>\n",
              "      <td>2</td>\n",
              "      <td>0</td>\n",
              "      <td>0.0</td>\n",
              "      <td>2021-09-01</td>\n",
              "      <td>2</td>\n",
              "      <td>82.0</td>\n",
              "      <td>86.5</td>\n",
              "    </tr>\n",
              "    <tr>\n",
              "      <th>3</th>\n",
              "      <td>2021-09-01</td>\n",
              "      <td>3</td>\n",
              "      <td>0</td>\n",
              "      <td>0.0</td>\n",
              "      <td>2021-09-01</td>\n",
              "      <td>3</td>\n",
              "      <td>82.0</td>\n",
              "      <td>89.0</td>\n",
              "    </tr>\n",
              "    <tr>\n",
              "      <th>4</th>\n",
              "      <td>2021-09-01</td>\n",
              "      <td>4</td>\n",
              "      <td>0</td>\n",
              "      <td>0.0</td>\n",
              "      <td>2021-09-01</td>\n",
              "      <td>4</td>\n",
              "      <td>84.0</td>\n",
              "      <td>79.0</td>\n",
              "    </tr>\n",
              "  </tbody>\n",
              "</table>\n",
              "</div>\n",
              "      <button class=\"colab-df-convert\" onclick=\"convertToInteractive('df-504aef8f-d2a3-4922-8430-dc31f7e65081')\"\n",
              "              title=\"Convert this dataframe to an interactive table.\"\n",
              "              style=\"display:none;\">\n",
              "        \n",
              "  <svg xmlns=\"http://www.w3.org/2000/svg\" height=\"24px\"viewBox=\"0 0 24 24\"\n",
              "       width=\"24px\">\n",
              "    <path d=\"M0 0h24v24H0V0z\" fill=\"none\"/>\n",
              "    <path d=\"M18.56 5.44l.94 2.06.94-2.06 2.06-.94-2.06-.94-.94-2.06-.94 2.06-2.06.94zm-11 1L8.5 8.5l.94-2.06 2.06-.94-2.06-.94L8.5 2.5l-.94 2.06-2.06.94zm10 10l.94 2.06.94-2.06 2.06-.94-2.06-.94-.94-2.06-.94 2.06-2.06.94z\"/><path d=\"M17.41 7.96l-1.37-1.37c-.4-.4-.92-.59-1.43-.59-.52 0-1.04.2-1.43.59L10.3 9.45l-7.72 7.72c-.78.78-.78 2.05 0 2.83L4 21.41c.39.39.9.59 1.41.59.51 0 1.02-.2 1.41-.59l7.78-7.78 2.81-2.81c.8-.78.8-2.07 0-2.86zM5.41 20L4 18.59l7.72-7.72 1.47 1.35L5.41 20z\"/>\n",
              "  </svg>\n",
              "      </button>\n",
              "      \n",
              "  <style>\n",
              "    .colab-df-container {\n",
              "      display:flex;\n",
              "      flex-wrap:wrap;\n",
              "      gap: 12px;\n",
              "    }\n",
              "\n",
              "    .colab-df-convert {\n",
              "      background-color: #E8F0FE;\n",
              "      border: none;\n",
              "      border-radius: 50%;\n",
              "      cursor: pointer;\n",
              "      display: none;\n",
              "      fill: #1967D2;\n",
              "      height: 32px;\n",
              "      padding: 0 0 0 0;\n",
              "      width: 32px;\n",
              "    }\n",
              "\n",
              "    .colab-df-convert:hover {\n",
              "      background-color: #E2EBFA;\n",
              "      box-shadow: 0px 1px 2px rgba(60, 64, 67, 0.3), 0px 1px 3px 1px rgba(60, 64, 67, 0.15);\n",
              "      fill: #174EA6;\n",
              "    }\n",
              "\n",
              "    [theme=dark] .colab-df-convert {\n",
              "      background-color: #3B4455;\n",
              "      fill: #D2E3FC;\n",
              "    }\n",
              "\n",
              "    [theme=dark] .colab-df-convert:hover {\n",
              "      background-color: #434B5C;\n",
              "      box-shadow: 0px 1px 3px 1px rgba(0, 0, 0, 0.15);\n",
              "      filter: drop-shadow(0px 1px 2px rgba(0, 0, 0, 0.3));\n",
              "      fill: #FFFFFF;\n",
              "    }\n",
              "  </style>\n",
              "\n",
              "      <script>\n",
              "        const buttonEl =\n",
              "          document.querySelector('#df-504aef8f-d2a3-4922-8430-dc31f7e65081 button.colab-df-convert');\n",
              "        buttonEl.style.display =\n",
              "          google.colab.kernel.accessAllowed ? 'block' : 'none';\n",
              "\n",
              "        async function convertToInteractive(key) {\n",
              "          const element = document.querySelector('#df-504aef8f-d2a3-4922-8430-dc31f7e65081');\n",
              "          const dataTable =\n",
              "            await google.colab.kernel.invokeFunction('convertToInteractive',\n",
              "                                                     [key], {});\n",
              "          if (!dataTable) return;\n",
              "\n",
              "          const docLinkHtml = 'Like what you see? Visit the ' +\n",
              "            '<a target=\"_blank\" href=https://colab.research.google.com/notebooks/data_table.ipynb>data table notebook</a>'\n",
              "            + ' to learn more about interactive tables.';\n",
              "          element.innerHTML = '';\n",
              "          dataTable['output_type'] = 'display_data';\n",
              "          await google.colab.output.renderOutput(dataTable, element);\n",
              "          const docLink = document.createElement('div');\n",
              "          docLink.innerHTML = docLinkHtml;\n",
              "          element.appendChild(docLink);\n",
              "        }\n",
              "      </script>\n",
              "    </div>\n",
              "  </div>\n",
              "  "
            ]
          },
          "metadata": {},
          "execution_count": 4
        }
      ],
      "source": [
        "df3=pd.merge(df2, df1, left_index=True, right_index=True)\n",
        "df3.head()"
      ]
    },
    {
      "cell_type": "code",
      "execution_count": 5,
      "id": "0fd12e37",
      "metadata": {
        "colab": {
          "base_uri": "https://localhost:8080/"
        },
        "id": "0fd12e37",
        "outputId": "4e83b87e-642b-4403-caf9-57e1d11168c0"
      },
      "outputs": [
        {
          "output_type": "execute_result",
          "data": {
            "text/plain": [
              "(8736, 8)"
            ]
          },
          "metadata": {},
          "execution_count": 5
        }
      ],
      "source": [
        "df3.shape"
      ]
    },
    {
      "cell_type": "code",
      "execution_count": 6,
      "id": "976ae14c",
      "metadata": {
        "colab": {
          "base_uri": "https://localhost:8080/",
          "height": 206
        },
        "id": "976ae14c",
        "outputId": "78cc13f1-3160-4d1c-b032-9ff81b01e577"
      },
      "outputs": [
        {
          "output_type": "execute_result",
          "data": {
            "text/plain": [
              "         Date  Hour  Irradiance  Power  Time  Temp   Hum\n",
              "0  2021-09-01     0           0    0.0     0  82.0  84.0\n",
              "1  2021-09-01     1           0    0.0     1  82.0  84.0\n",
              "2  2021-09-01     2           0    0.0     2  82.0  86.5\n",
              "3  2021-09-01     3           0    0.0     3  82.0  89.0\n",
              "4  2021-09-01     4           0    0.0     4  84.0  79.0"
            ],
            "text/html": [
              "\n",
              "  <div id=\"df-bc12b713-f8d6-40f7-9888-8511ebbc7718\">\n",
              "    <div class=\"colab-df-container\">\n",
              "      <div>\n",
              "<style scoped>\n",
              "    .dataframe tbody tr th:only-of-type {\n",
              "        vertical-align: middle;\n",
              "    }\n",
              "\n",
              "    .dataframe tbody tr th {\n",
              "        vertical-align: top;\n",
              "    }\n",
              "\n",
              "    .dataframe thead th {\n",
              "        text-align: right;\n",
              "    }\n",
              "</style>\n",
              "<table border=\"1\" class=\"dataframe\">\n",
              "  <thead>\n",
              "    <tr style=\"text-align: right;\">\n",
              "      <th></th>\n",
              "      <th>Date</th>\n",
              "      <th>Hour</th>\n",
              "      <th>Irradiance</th>\n",
              "      <th>Power</th>\n",
              "      <th>Time</th>\n",
              "      <th>Temp</th>\n",
              "      <th>Hum</th>\n",
              "    </tr>\n",
              "  </thead>\n",
              "  <tbody>\n",
              "    <tr>\n",
              "      <th>0</th>\n",
              "      <td>2021-09-01</td>\n",
              "      <td>0</td>\n",
              "      <td>0</td>\n",
              "      <td>0.0</td>\n",
              "      <td>0</td>\n",
              "      <td>82.0</td>\n",
              "      <td>84.0</td>\n",
              "    </tr>\n",
              "    <tr>\n",
              "      <th>1</th>\n",
              "      <td>2021-09-01</td>\n",
              "      <td>1</td>\n",
              "      <td>0</td>\n",
              "      <td>0.0</td>\n",
              "      <td>1</td>\n",
              "      <td>82.0</td>\n",
              "      <td>84.0</td>\n",
              "    </tr>\n",
              "    <tr>\n",
              "      <th>2</th>\n",
              "      <td>2021-09-01</td>\n",
              "      <td>2</td>\n",
              "      <td>0</td>\n",
              "      <td>0.0</td>\n",
              "      <td>2</td>\n",
              "      <td>82.0</td>\n",
              "      <td>86.5</td>\n",
              "    </tr>\n",
              "    <tr>\n",
              "      <th>3</th>\n",
              "      <td>2021-09-01</td>\n",
              "      <td>3</td>\n",
              "      <td>0</td>\n",
              "      <td>0.0</td>\n",
              "      <td>3</td>\n",
              "      <td>82.0</td>\n",
              "      <td>89.0</td>\n",
              "    </tr>\n",
              "    <tr>\n",
              "      <th>4</th>\n",
              "      <td>2021-09-01</td>\n",
              "      <td>4</td>\n",
              "      <td>0</td>\n",
              "      <td>0.0</td>\n",
              "      <td>4</td>\n",
              "      <td>84.0</td>\n",
              "      <td>79.0</td>\n",
              "    </tr>\n",
              "  </tbody>\n",
              "</table>\n",
              "</div>\n",
              "      <button class=\"colab-df-convert\" onclick=\"convertToInteractive('df-bc12b713-f8d6-40f7-9888-8511ebbc7718')\"\n",
              "              title=\"Convert this dataframe to an interactive table.\"\n",
              "              style=\"display:none;\">\n",
              "        \n",
              "  <svg xmlns=\"http://www.w3.org/2000/svg\" height=\"24px\"viewBox=\"0 0 24 24\"\n",
              "       width=\"24px\">\n",
              "    <path d=\"M0 0h24v24H0V0z\" fill=\"none\"/>\n",
              "    <path d=\"M18.56 5.44l.94 2.06.94-2.06 2.06-.94-2.06-.94-.94-2.06-.94 2.06-2.06.94zm-11 1L8.5 8.5l.94-2.06 2.06-.94-2.06-.94L8.5 2.5l-.94 2.06-2.06.94zm10 10l.94 2.06.94-2.06 2.06-.94-2.06-.94-.94-2.06-.94 2.06-2.06.94z\"/><path d=\"M17.41 7.96l-1.37-1.37c-.4-.4-.92-.59-1.43-.59-.52 0-1.04.2-1.43.59L10.3 9.45l-7.72 7.72c-.78.78-.78 2.05 0 2.83L4 21.41c.39.39.9.59 1.41.59.51 0 1.02-.2 1.41-.59l7.78-7.78 2.81-2.81c.8-.78.8-2.07 0-2.86zM5.41 20L4 18.59l7.72-7.72 1.47 1.35L5.41 20z\"/>\n",
              "  </svg>\n",
              "      </button>\n",
              "      \n",
              "  <style>\n",
              "    .colab-df-container {\n",
              "      display:flex;\n",
              "      flex-wrap:wrap;\n",
              "      gap: 12px;\n",
              "    }\n",
              "\n",
              "    .colab-df-convert {\n",
              "      background-color: #E8F0FE;\n",
              "      border: none;\n",
              "      border-radius: 50%;\n",
              "      cursor: pointer;\n",
              "      display: none;\n",
              "      fill: #1967D2;\n",
              "      height: 32px;\n",
              "      padding: 0 0 0 0;\n",
              "      width: 32px;\n",
              "    }\n",
              "\n",
              "    .colab-df-convert:hover {\n",
              "      background-color: #E2EBFA;\n",
              "      box-shadow: 0px 1px 2px rgba(60, 64, 67, 0.3), 0px 1px 3px 1px rgba(60, 64, 67, 0.15);\n",
              "      fill: #174EA6;\n",
              "    }\n",
              "\n",
              "    [theme=dark] .colab-df-convert {\n",
              "      background-color: #3B4455;\n",
              "      fill: #D2E3FC;\n",
              "    }\n",
              "\n",
              "    [theme=dark] .colab-df-convert:hover {\n",
              "      background-color: #434B5C;\n",
              "      box-shadow: 0px 1px 3px 1px rgba(0, 0, 0, 0.15);\n",
              "      filter: drop-shadow(0px 1px 2px rgba(0, 0, 0, 0.3));\n",
              "      fill: #FFFFFF;\n",
              "    }\n",
              "  </style>\n",
              "\n",
              "      <script>\n",
              "        const buttonEl =\n",
              "          document.querySelector('#df-bc12b713-f8d6-40f7-9888-8511ebbc7718 button.colab-df-convert');\n",
              "        buttonEl.style.display =\n",
              "          google.colab.kernel.accessAllowed ? 'block' : 'none';\n",
              "\n",
              "        async function convertToInteractive(key) {\n",
              "          const element = document.querySelector('#df-bc12b713-f8d6-40f7-9888-8511ebbc7718');\n",
              "          const dataTable =\n",
              "            await google.colab.kernel.invokeFunction('convertToInteractive',\n",
              "                                                     [key], {});\n",
              "          if (!dataTable) return;\n",
              "\n",
              "          const docLinkHtml = 'Like what you see? Visit the ' +\n",
              "            '<a target=\"_blank\" href=https://colab.research.google.com/notebooks/data_table.ipynb>data table notebook</a>'\n",
              "            + ' to learn more about interactive tables.';\n",
              "          element.innerHTML = '';\n",
              "          dataTable['output_type'] = 'display_data';\n",
              "          await google.colab.output.renderOutput(dataTable, element);\n",
              "          const docLink = document.createElement('div');\n",
              "          docLink.innerHTML = docLinkHtml;\n",
              "          element.appendChild(docLink);\n",
              "        }\n",
              "      </script>\n",
              "    </div>\n",
              "  </div>\n",
              "  "
            ]
          },
          "metadata": {},
          "execution_count": 6
        }
      ],
      "source": [
        "df3 = df3.drop(\"Date_y\",axis=1)\n",
        "df3.rename(columns={'Date_x': 'Date'}, inplace=True)\n",
        "df3.head()"
      ]
    },
    {
      "cell_type": "code",
      "execution_count": 7,
      "id": "982e0ed4",
      "metadata": {
        "id": "982e0ed4"
      },
      "outputs": [],
      "source": [
        "df3 = df3.drop(\"Time\",axis=1)"
      ]
    },
    {
      "cell_type": "code",
      "execution_count": 8,
      "id": "4606afe0",
      "metadata": {
        "colab": {
          "base_uri": "https://localhost:8080/"
        },
        "id": "4606afe0",
        "outputId": "3f3e2956-04c0-4bf7-b67a-bc79d939e5da"
      },
      "outputs": [
        {
          "output_type": "execute_result",
          "data": {
            "text/plain": [
              "(8736, 6)"
            ]
          },
          "metadata": {},
          "execution_count": 8
        }
      ],
      "source": [
        "df3.shape"
      ]
    },
    {
      "cell_type": "code",
      "execution_count": 9,
      "id": "d7fc3da6",
      "metadata": {
        "colab": {
          "base_uri": "https://localhost:8080/"
        },
        "id": "d7fc3da6",
        "outputId": "a6f6bebb-eb35-4b15-d853-953f17fb350b"
      },
      "outputs": [
        {
          "output_type": "execute_result",
          "data": {
            "text/plain": [
              "Date          0\n",
              "Hour          0\n",
              "Irradiance    0\n",
              "Power         0\n",
              "Temp          0\n",
              "Hum           0\n",
              "dtype: int64"
            ]
          },
          "metadata": {},
          "execution_count": 9
        }
      ],
      "source": [
        "df3.isnull().sum()"
      ]
    },
    {
      "cell_type": "code",
      "execution_count": 10,
      "id": "d3a1a548",
      "metadata": {
        "colab": {
          "base_uri": "https://localhost:8080/"
        },
        "id": "d3a1a548",
        "outputId": "2434788b-0986-4485-fe3f-c9e3e4113a8d"
      },
      "outputs": [
        {
          "output_type": "stream",
          "name": "stdout",
          "text": [
            "<class 'pandas.core.frame.DataFrame'>\n",
            "Int64Index: 8736 entries, 0 to 8735\n",
            "Data columns (total 6 columns):\n",
            " #   Column      Non-Null Count  Dtype  \n",
            "---  ------      --------------  -----  \n",
            " 0   Date        8736 non-null   object \n",
            " 1   Hour        8736 non-null   int64  \n",
            " 2   Irradiance  8736 non-null   int64  \n",
            " 3   Power       8736 non-null   float64\n",
            " 4   Temp        8736 non-null   float64\n",
            " 5   Hum         8736 non-null   float64\n",
            "dtypes: float64(3), int64(2), object(1)\n",
            "memory usage: 477.8+ KB\n"
          ]
        }
      ],
      "source": [
        "df3.info()"
      ]
    },
    {
      "cell_type": "code",
      "execution_count": 11,
      "id": "43ba7924",
      "metadata": {
        "id": "43ba7924"
      },
      "outputs": [],
      "source": [
        "df3['Date']=pd.to_datetime(df3['Date'])"
      ]
    },
    {
      "cell_type": "code",
      "execution_count": 12,
      "id": "1e66eaa1",
      "metadata": {
        "colab": {
          "base_uri": "https://localhost:8080/",
          "height": 206
        },
        "id": "1e66eaa1",
        "outputId": "98934a8e-5fe2-4d4a-a8be-46ae2aa8c860"
      },
      "outputs": [
        {
          "output_type": "execute_result",
          "data": {
            "text/plain": [
              "        Date  Hour  Irradiance  Power  Temp   Hum\n",
              "0 2021-09-01     0           0    0.0  82.0  84.0\n",
              "1 2021-09-01     1           0    0.0  82.0  84.0\n",
              "2 2021-09-01     2           0    0.0  82.0  86.5\n",
              "3 2021-09-01     3           0    0.0  82.0  89.0\n",
              "4 2021-09-01     4           0    0.0  84.0  79.0"
            ],
            "text/html": [
              "\n",
              "  <div id=\"df-1fb3cb06-638e-4b67-aade-0f1bc9438182\">\n",
              "    <div class=\"colab-df-container\">\n",
              "      <div>\n",
              "<style scoped>\n",
              "    .dataframe tbody tr th:only-of-type {\n",
              "        vertical-align: middle;\n",
              "    }\n",
              "\n",
              "    .dataframe tbody tr th {\n",
              "        vertical-align: top;\n",
              "    }\n",
              "\n",
              "    .dataframe thead th {\n",
              "        text-align: right;\n",
              "    }\n",
              "</style>\n",
              "<table border=\"1\" class=\"dataframe\">\n",
              "  <thead>\n",
              "    <tr style=\"text-align: right;\">\n",
              "      <th></th>\n",
              "      <th>Date</th>\n",
              "      <th>Hour</th>\n",
              "      <th>Irradiance</th>\n",
              "      <th>Power</th>\n",
              "      <th>Temp</th>\n",
              "      <th>Hum</th>\n",
              "    </tr>\n",
              "  </thead>\n",
              "  <tbody>\n",
              "    <tr>\n",
              "      <th>0</th>\n",
              "      <td>2021-09-01</td>\n",
              "      <td>0</td>\n",
              "      <td>0</td>\n",
              "      <td>0.0</td>\n",
              "      <td>82.0</td>\n",
              "      <td>84.0</td>\n",
              "    </tr>\n",
              "    <tr>\n",
              "      <th>1</th>\n",
              "      <td>2021-09-01</td>\n",
              "      <td>1</td>\n",
              "      <td>0</td>\n",
              "      <td>0.0</td>\n",
              "      <td>82.0</td>\n",
              "      <td>84.0</td>\n",
              "    </tr>\n",
              "    <tr>\n",
              "      <th>2</th>\n",
              "      <td>2021-09-01</td>\n",
              "      <td>2</td>\n",
              "      <td>0</td>\n",
              "      <td>0.0</td>\n",
              "      <td>82.0</td>\n",
              "      <td>86.5</td>\n",
              "    </tr>\n",
              "    <tr>\n",
              "      <th>3</th>\n",
              "      <td>2021-09-01</td>\n",
              "      <td>3</td>\n",
              "      <td>0</td>\n",
              "      <td>0.0</td>\n",
              "      <td>82.0</td>\n",
              "      <td>89.0</td>\n",
              "    </tr>\n",
              "    <tr>\n",
              "      <th>4</th>\n",
              "      <td>2021-09-01</td>\n",
              "      <td>4</td>\n",
              "      <td>0</td>\n",
              "      <td>0.0</td>\n",
              "      <td>84.0</td>\n",
              "      <td>79.0</td>\n",
              "    </tr>\n",
              "  </tbody>\n",
              "</table>\n",
              "</div>\n",
              "      <button class=\"colab-df-convert\" onclick=\"convertToInteractive('df-1fb3cb06-638e-4b67-aade-0f1bc9438182')\"\n",
              "              title=\"Convert this dataframe to an interactive table.\"\n",
              "              style=\"display:none;\">\n",
              "        \n",
              "  <svg xmlns=\"http://www.w3.org/2000/svg\" height=\"24px\"viewBox=\"0 0 24 24\"\n",
              "       width=\"24px\">\n",
              "    <path d=\"M0 0h24v24H0V0z\" fill=\"none\"/>\n",
              "    <path d=\"M18.56 5.44l.94 2.06.94-2.06 2.06-.94-2.06-.94-.94-2.06-.94 2.06-2.06.94zm-11 1L8.5 8.5l.94-2.06 2.06-.94-2.06-.94L8.5 2.5l-.94 2.06-2.06.94zm10 10l.94 2.06.94-2.06 2.06-.94-2.06-.94-.94-2.06-.94 2.06-2.06.94z\"/><path d=\"M17.41 7.96l-1.37-1.37c-.4-.4-.92-.59-1.43-.59-.52 0-1.04.2-1.43.59L10.3 9.45l-7.72 7.72c-.78.78-.78 2.05 0 2.83L4 21.41c.39.39.9.59 1.41.59.51 0 1.02-.2 1.41-.59l7.78-7.78 2.81-2.81c.8-.78.8-2.07 0-2.86zM5.41 20L4 18.59l7.72-7.72 1.47 1.35L5.41 20z\"/>\n",
              "  </svg>\n",
              "      </button>\n",
              "      \n",
              "  <style>\n",
              "    .colab-df-container {\n",
              "      display:flex;\n",
              "      flex-wrap:wrap;\n",
              "      gap: 12px;\n",
              "    }\n",
              "\n",
              "    .colab-df-convert {\n",
              "      background-color: #E8F0FE;\n",
              "      border: none;\n",
              "      border-radius: 50%;\n",
              "      cursor: pointer;\n",
              "      display: none;\n",
              "      fill: #1967D2;\n",
              "      height: 32px;\n",
              "      padding: 0 0 0 0;\n",
              "      width: 32px;\n",
              "    }\n",
              "\n",
              "    .colab-df-convert:hover {\n",
              "      background-color: #E2EBFA;\n",
              "      box-shadow: 0px 1px 2px rgba(60, 64, 67, 0.3), 0px 1px 3px 1px rgba(60, 64, 67, 0.15);\n",
              "      fill: #174EA6;\n",
              "    }\n",
              "\n",
              "    [theme=dark] .colab-df-convert {\n",
              "      background-color: #3B4455;\n",
              "      fill: #D2E3FC;\n",
              "    }\n",
              "\n",
              "    [theme=dark] .colab-df-convert:hover {\n",
              "      background-color: #434B5C;\n",
              "      box-shadow: 0px 1px 3px 1px rgba(0, 0, 0, 0.15);\n",
              "      filter: drop-shadow(0px 1px 2px rgba(0, 0, 0, 0.3));\n",
              "      fill: #FFFFFF;\n",
              "    }\n",
              "  </style>\n",
              "\n",
              "      <script>\n",
              "        const buttonEl =\n",
              "          document.querySelector('#df-1fb3cb06-638e-4b67-aade-0f1bc9438182 button.colab-df-convert');\n",
              "        buttonEl.style.display =\n",
              "          google.colab.kernel.accessAllowed ? 'block' : 'none';\n",
              "\n",
              "        async function convertToInteractive(key) {\n",
              "          const element = document.querySelector('#df-1fb3cb06-638e-4b67-aade-0f1bc9438182');\n",
              "          const dataTable =\n",
              "            await google.colab.kernel.invokeFunction('convertToInteractive',\n",
              "                                                     [key], {});\n",
              "          if (!dataTable) return;\n",
              "\n",
              "          const docLinkHtml = 'Like what you see? Visit the ' +\n",
              "            '<a target=\"_blank\" href=https://colab.research.google.com/notebooks/data_table.ipynb>data table notebook</a>'\n",
              "            + ' to learn more about interactive tables.';\n",
              "          element.innerHTML = '';\n",
              "          dataTable['output_type'] = 'display_data';\n",
              "          await google.colab.output.renderOutput(dataTable, element);\n",
              "          const docLink = document.createElement('div');\n",
              "          docLink.innerHTML = docLinkHtml;\n",
              "          element.appendChild(docLink);\n",
              "        }\n",
              "      </script>\n",
              "    </div>\n",
              "  </div>\n",
              "  "
            ]
          },
          "metadata": {},
          "execution_count": 12
        }
      ],
      "source": [
        "df3.head()"
      ]
    },
    {
      "cell_type": "code",
      "execution_count": 13,
      "id": "8b8b038b",
      "metadata": {
        "id": "8b8b038b"
      },
      "outputs": [],
      "source": [
        "df3=df3.drop([\"Date\",\"Hour\"],axis=1)"
      ]
    },
    {
      "cell_type": "code",
      "execution_count": 14,
      "id": "e33e76c4",
      "metadata": {
        "id": "e33e76c4"
      },
      "outputs": [],
      "source": [
        "df3 = df3.reset_index(drop=True)"
      ]
    },
    {
      "cell_type": "code",
      "execution_count": 15,
      "id": "ce38a7d6",
      "metadata": {
        "colab": {
          "base_uri": "https://localhost:8080/"
        },
        "id": "ce38a7d6",
        "outputId": "dc739af2-91bd-4037-a54a-eb336e1a931c"
      },
      "outputs": [
        {
          "output_type": "stream",
          "name": "stdout",
          "text": [
            "   var1(t-1)  var2(t-1)  var3(t-1)  var4(t-1)   var1(t)   var2(t)   var3(t)  \\\n",
            "1        0.0        0.0   0.796117   0.868132  0.000000  0.000000  0.796117   \n",
            "2        0.0        0.0   0.796117   0.868132  0.000000  0.000000  0.796117   \n",
            "3        0.0        0.0   0.796117   0.890110  0.000000  0.000000  0.796117   \n",
            "4        0.0        0.0   0.796117   0.923077  0.000000  0.000000  0.815534   \n",
            "5        0.0        0.0   0.815534   0.774725  0.001902  0.001902  0.841748   \n",
            "\n",
            "    var4(t)  \n",
            "1  0.868132  \n",
            "2  0.890110  \n",
            "3  0.923077  \n",
            "4  0.774725  \n",
            "5  0.725275  \n"
          ]
        }
      ],
      "source": [
        "# prepare data for lstm\n",
        "from pandas import read_csv\n",
        "from pandas import DataFrame\n",
        "from pandas import concat\n",
        "from sklearn.preprocessing import LabelEncoder\n",
        "from sklearn.preprocessing import MinMaxScaler\n",
        "\n",
        "def series_to_supervised(data, n_in=1, n_out=1, dropnan=True):\n",
        "  n_vars = 1 if type(data) is list else data.shape[1]\n",
        "  df = DataFrame(data)\n",
        "  cols, names = list(), list()\n",
        "  for i in range(n_in, 0, -1):\n",
        "    cols.append(df.shift(i))\n",
        "    names += [('var%d(t-%d)' % (j+1, i)) for j in range(n_vars)]\n",
        "  for i in range(0, n_out):\n",
        "    cols.append(df.shift(-i))\n",
        "    if i == 0:\n",
        "      names += [('var%d(t)' % (j+1)) for j in range(n_vars)]\n",
        "    else:\n",
        "      names += [('var%d(t+%d)' % (j+1, i)) for j in range(n_vars)]\n",
        "      \n",
        "  agg = concat(cols, axis=1)\n",
        "  agg.columns = names\n",
        "  if dropnan:\n",
        "    agg.dropna(inplace=True)\n",
        "  return agg\n",
        " \n",
        "\n",
        " \n",
        "# load dataset\n",
        "values = df3.values\n",
        "# integer encode direction\n",
        "encoder = LabelEncoder()\n",
        "values[:,3] = encoder.fit_transform(values[:,3])\n",
        "# ensure all data is float\n",
        "values = values.astype('float32')\n",
        "# normalize features\n",
        "scaler = MinMaxScaler(feature_range=(0, 1))\n",
        "scaled = scaler.fit_transform(values)\n",
        "# frame as supervised learning\n",
        "reframed = series_to_supervised(scaled, 1, 1)\n",
        "# drop columns we don't want to predict\n",
        "print(reframed.head())"
      ]
    },
    {
      "cell_type": "code",
      "execution_count": 16,
      "id": "89745e99",
      "metadata": {
        "colab": {
          "base_uri": "https://localhost:8080/"
        },
        "id": "89745e99",
        "outputId": "3cd929d2-f58f-4395-a908-9d2ed89bc06a"
      },
      "outputs": [
        {
          "output_type": "stream",
          "name": "stdout",
          "text": [
            "(6000, 1, 7) (6000,) (2735, 1, 7) (2735,)\n"
          ]
        }
      ],
      "source": [
        "...\n",
        "# split into train and test sets\n",
        "values = reframed.values\n",
        "n_train_hours = 250 * 24\n",
        "train = values[:n_train_hours, :]\n",
        "test = values[n_train_hours:, :]\n",
        "# split into input and outputs\n",
        "train_X, train_y = train[:, :-1], train[:, -1]\n",
        "test_X, test_y = test[:, :-1], test[:, -1]\n",
        "# reshape input to be 3D [samples, timesteps, features]\n",
        "train_X = train_X.reshape((train_X.shape[0], 1, train_X.shape[1]))\n",
        "test_X = test_X.reshape((test_X.shape[0], 1, test_X.shape[1]))\n",
        "print(train_X.shape, train_y.shape, test_X.shape, test_y.shape)"
      ]
    },
    {
      "cell_type": "code",
      "execution_count": 17,
      "id": "58deb588",
      "metadata": {
        "id": "58deb588"
      },
      "outputs": [],
      "source": [
        "scaler_X = MinMaxScaler(feature_range=(0, 1))\n",
        "scaler_y = MinMaxScaler(feature_range=(0, 1))"
      ]
    },
    {
      "cell_type": "code",
      "execution_count": 18,
      "id": "d31c11dd",
      "metadata": {
        "colab": {
          "base_uri": "https://localhost:8080/",
          "height": 74
        },
        "id": "d31c11dd",
        "outputId": "b266f83a-7efb-4a30-c6a0-95a6a1c0ba80"
      },
      "outputs": [
        {
          "output_type": "execute_result",
          "data": {
            "text/plain": [
              "MinMaxScaler()"
            ],
            "text/html": [
              "<style>#sk-container-id-1 {color: black;background-color: white;}#sk-container-id-1 pre{padding: 0;}#sk-container-id-1 div.sk-toggleable {background-color: white;}#sk-container-id-1 label.sk-toggleable__label {cursor: pointer;display: block;width: 100%;margin-bottom: 0;padding: 0.3em;box-sizing: border-box;text-align: center;}#sk-container-id-1 label.sk-toggleable__label-arrow:before {content: \"▸\";float: left;margin-right: 0.25em;color: #696969;}#sk-container-id-1 label.sk-toggleable__label-arrow:hover:before {color: black;}#sk-container-id-1 div.sk-estimator:hover label.sk-toggleable__label-arrow:before {color: black;}#sk-container-id-1 div.sk-toggleable__content {max-height: 0;max-width: 0;overflow: hidden;text-align: left;background-color: #f0f8ff;}#sk-container-id-1 div.sk-toggleable__content pre {margin: 0.2em;color: black;border-radius: 0.25em;background-color: #f0f8ff;}#sk-container-id-1 input.sk-toggleable__control:checked~div.sk-toggleable__content {max-height: 200px;max-width: 100%;overflow: auto;}#sk-container-id-1 input.sk-toggleable__control:checked~label.sk-toggleable__label-arrow:before {content: \"▾\";}#sk-container-id-1 div.sk-estimator input.sk-toggleable__control:checked~label.sk-toggleable__label {background-color: #d4ebff;}#sk-container-id-1 div.sk-label input.sk-toggleable__control:checked~label.sk-toggleable__label {background-color: #d4ebff;}#sk-container-id-1 input.sk-hidden--visually {border: 0;clip: rect(1px 1px 1px 1px);clip: rect(1px, 1px, 1px, 1px);height: 1px;margin: -1px;overflow: hidden;padding: 0;position: absolute;width: 1px;}#sk-container-id-1 div.sk-estimator {font-family: monospace;background-color: #f0f8ff;border: 1px dotted black;border-radius: 0.25em;box-sizing: border-box;margin-bottom: 0.5em;}#sk-container-id-1 div.sk-estimator:hover {background-color: #d4ebff;}#sk-container-id-1 div.sk-parallel-item::after {content: \"\";width: 100%;border-bottom: 1px solid gray;flex-grow: 1;}#sk-container-id-1 div.sk-label:hover label.sk-toggleable__label {background-color: #d4ebff;}#sk-container-id-1 div.sk-serial::before {content: \"\";position: absolute;border-left: 1px solid gray;box-sizing: border-box;top: 0;bottom: 0;left: 50%;z-index: 0;}#sk-container-id-1 div.sk-serial {display: flex;flex-direction: column;align-items: center;background-color: white;padding-right: 0.2em;padding-left: 0.2em;position: relative;}#sk-container-id-1 div.sk-item {position: relative;z-index: 1;}#sk-container-id-1 div.sk-parallel {display: flex;align-items: stretch;justify-content: center;background-color: white;position: relative;}#sk-container-id-1 div.sk-item::before, #sk-container-id-1 div.sk-parallel-item::before {content: \"\";position: absolute;border-left: 1px solid gray;box-sizing: border-box;top: 0;bottom: 0;left: 50%;z-index: -1;}#sk-container-id-1 div.sk-parallel-item {display: flex;flex-direction: column;z-index: 1;position: relative;background-color: white;}#sk-container-id-1 div.sk-parallel-item:first-child::after {align-self: flex-end;width: 50%;}#sk-container-id-1 div.sk-parallel-item:last-child::after {align-self: flex-start;width: 50%;}#sk-container-id-1 div.sk-parallel-item:only-child::after {width: 0;}#sk-container-id-1 div.sk-dashed-wrapped {border: 1px dashed gray;margin: 0 0.4em 0.5em 0.4em;box-sizing: border-box;padding-bottom: 0.4em;background-color: white;}#sk-container-id-1 div.sk-label label {font-family: monospace;font-weight: bold;display: inline-block;line-height: 1.2em;}#sk-container-id-1 div.sk-label-container {text-align: center;}#sk-container-id-1 div.sk-container {/* jupyter's `normalize.less` sets `[hidden] { display: none; }` but bootstrap.min.css set `[hidden] { display: none !important; }` so we also need the `!important` here to be able to override the default hidden behavior on the sphinx rendered scikit-learn.org. See: https://github.com/scikit-learn/scikit-learn/issues/21755 */display: inline-block !important;position: relative;}#sk-container-id-1 div.sk-text-repr-fallback {display: none;}</style><div id=\"sk-container-id-1\" class=\"sk-top-container\"><div class=\"sk-text-repr-fallback\"><pre>MinMaxScaler()</pre><b>In a Jupyter environment, please rerun this cell to show the HTML representation or trust the notebook. <br />On GitHub, the HTML representation is unable to render, please try loading this page with nbviewer.org.</b></div><div class=\"sk-container\" hidden><div class=\"sk-item\"><div class=\"sk-estimator sk-toggleable\"><input class=\"sk-toggleable__control sk-hidden--visually\" id=\"sk-estimator-id-1\" type=\"checkbox\" checked><label for=\"sk-estimator-id-1\" class=\"sk-toggleable__label sk-toggleable__label-arrow\">MinMaxScaler</label><div class=\"sk-toggleable__content\"><pre>MinMaxScaler()</pre></div></div></div></div></div>"
            ]
          },
          "metadata": {},
          "execution_count": 18
        }
      ],
      "source": [
        "scaler_X.fit(train)\n",
        "scaler_y.fit(test)"
      ]
    },
    {
      "cell_type": "code",
      "execution_count": 19,
      "id": "c3e6234e",
      "metadata": {
        "colab": {
          "base_uri": "https://localhost:8080/"
        },
        "id": "c3e6234e",
        "outputId": "446f2edb-6c33-4fa9-ac82-7796588931b0"
      },
      "outputs": [
        {
          "output_type": "stream",
          "name": "stdout",
          "text": [
            "Model: \"sequential\"\n",
            "_________________________________________________________________\n",
            " Layer (type)                Output Shape              Param #   \n",
            "=================================================================\n",
            " lstm (LSTM)                 (None, 50)                11600     \n",
            "                                                                 \n",
            " dense (Dense)               (None, 1)                 51        \n",
            "                                                                 \n",
            "=================================================================\n",
            "Total params: 11,651\n",
            "Trainable params: 11,651\n",
            "Non-trainable params: 0\n",
            "_________________________________________________________________\n"
          ]
        }
      ],
      "source": [
        "...\n",
        "# design network\n",
        "from keras.models import Sequential\n",
        "from keras.layers import Dense\n",
        "from keras.layers import LSTM\n",
        "from matplotlib import pyplot\n",
        "\n",
        "model = Sequential()\n",
        "model.add(LSTM(50, input_shape=(train_X.shape[1], train_X.shape[2])))\n",
        "model.add(Dense(1))\n",
        "model.compile(loss='mae', optimizer='adam')\n",
        "model.summary()"
      ]
    },
    {
      "cell_type": "code",
      "source": [
        "# fit network\n",
        "history = model.fit(train_X, train_y, epochs=50, batch_size=72, validation_data=(test_X, test_y), verbose=2, shuffle=False)"
      ],
      "metadata": {
        "colab": {
          "base_uri": "https://localhost:8080/"
        },
        "id": "0cBXqtGybymA",
        "outputId": "49487791-c782-4f4b-fd01-18525c9194c6"
      },
      "id": "0cBXqtGybymA",
      "execution_count": 20,
      "outputs": [
        {
          "output_type": "stream",
          "name": "stdout",
          "text": [
            "Epoch 1/50\n",
            "84/84 - 10s - loss: 0.3807 - val_loss: 0.1593 - 10s/epoch - 115ms/step\n",
            "Epoch 2/50\n",
            "84/84 - 1s - loss: 0.1626 - val_loss: 0.1420 - 514ms/epoch - 6ms/step\n",
            "Epoch 3/50\n",
            "84/84 - 1s - loss: 0.1335 - val_loss: 0.1217 - 538ms/epoch - 6ms/step\n",
            "Epoch 4/50\n",
            "84/84 - 0s - loss: 0.1082 - val_loss: 0.1003 - 368ms/epoch - 4ms/step\n",
            "Epoch 5/50\n",
            "84/84 - 0s - loss: 0.0852 - val_loss: 0.0823 - 336ms/epoch - 4ms/step\n",
            "Epoch 6/50\n",
            "84/84 - 0s - loss: 0.0673 - val_loss: 0.0691 - 417ms/epoch - 5ms/step\n",
            "Epoch 7/50\n",
            "84/84 - 0s - loss: 0.0586 - val_loss: 0.0638 - 358ms/epoch - 4ms/step\n",
            "Epoch 8/50\n",
            "84/84 - 0s - loss: 0.0563 - val_loss: 0.0622 - 412ms/epoch - 5ms/step\n",
            "Epoch 9/50\n",
            "84/84 - 0s - loss: 0.0559 - val_loss: 0.0610 - 473ms/epoch - 6ms/step\n",
            "Epoch 10/50\n",
            "84/84 - 0s - loss: 0.0555 - val_loss: 0.0612 - 419ms/epoch - 5ms/step\n",
            "Epoch 11/50\n",
            "84/84 - 0s - loss: 0.0554 - val_loss: 0.0611 - 423ms/epoch - 5ms/step\n",
            "Epoch 12/50\n",
            "84/84 - 0s - loss: 0.0555 - val_loss: 0.0619 - 426ms/epoch - 5ms/step\n",
            "Epoch 13/50\n",
            "84/84 - 0s - loss: 0.0556 - val_loss: 0.0622 - 346ms/epoch - 4ms/step\n",
            "Epoch 14/50\n",
            "84/84 - 0s - loss: 0.0554 - val_loss: 0.0635 - 414ms/epoch - 5ms/step\n",
            "Epoch 15/50\n",
            "84/84 - 0s - loss: 0.0555 - val_loss: 0.0622 - 339ms/epoch - 4ms/step\n",
            "Epoch 16/50\n",
            "84/84 - 0s - loss: 0.0555 - val_loss: 0.0635 - 429ms/epoch - 5ms/step\n",
            "Epoch 17/50\n",
            "84/84 - 0s - loss: 0.0560 - val_loss: 0.0632 - 429ms/epoch - 5ms/step\n",
            "Epoch 18/50\n",
            "84/84 - 0s - loss: 0.0553 - val_loss: 0.0638 - 339ms/epoch - 4ms/step\n",
            "Epoch 19/50\n",
            "84/84 - 0s - loss: 0.0555 - val_loss: 0.0635 - 342ms/epoch - 4ms/step\n",
            "Epoch 20/50\n",
            "84/84 - 0s - loss: 0.0555 - val_loss: 0.0634 - 354ms/epoch - 4ms/step\n",
            "Epoch 21/50\n",
            "84/84 - 0s - loss: 0.0557 - val_loss: 0.0636 - 345ms/epoch - 4ms/step\n",
            "Epoch 22/50\n",
            "84/84 - 0s - loss: 0.0557 - val_loss: 0.0638 - 340ms/epoch - 4ms/step\n",
            "Epoch 23/50\n",
            "84/84 - 0s - loss: 0.0557 - val_loss: 0.0640 - 357ms/epoch - 4ms/step\n",
            "Epoch 24/50\n",
            "84/84 - 0s - loss: 0.0557 - val_loss: 0.0643 - 337ms/epoch - 4ms/step\n",
            "Epoch 25/50\n",
            "84/84 - 0s - loss: 0.0556 - val_loss: 0.0646 - 434ms/epoch - 5ms/step\n",
            "Epoch 26/50\n",
            "84/84 - 0s - loss: 0.0556 - val_loss: 0.0658 - 339ms/epoch - 4ms/step\n",
            "Epoch 27/50\n",
            "84/84 - 0s - loss: 0.0555 - val_loss: 0.0648 - 352ms/epoch - 4ms/step\n",
            "Epoch 28/50\n",
            "84/84 - 0s - loss: 0.0555 - val_loss: 0.0665 - 432ms/epoch - 5ms/step\n",
            "Epoch 29/50\n",
            "84/84 - 0s - loss: 0.0554 - val_loss: 0.0659 - 418ms/epoch - 5ms/step\n",
            "Epoch 30/50\n",
            "84/84 - 1s - loss: 0.0554 - val_loss: 0.0649 - 506ms/epoch - 6ms/step\n",
            "Epoch 31/50\n",
            "84/84 - 1s - loss: 0.0554 - val_loss: 0.0664 - 539ms/epoch - 6ms/step\n",
            "Epoch 32/50\n",
            "84/84 - 1s - loss: 0.0553 - val_loss: 0.0648 - 550ms/epoch - 7ms/step\n",
            "Epoch 33/50\n",
            "84/84 - 1s - loss: 0.0551 - val_loss: 0.0645 - 541ms/epoch - 6ms/step\n",
            "Epoch 34/50\n",
            "84/84 - 0s - loss: 0.0551 - val_loss: 0.0648 - 368ms/epoch - 4ms/step\n",
            "Epoch 35/50\n",
            "84/84 - 0s - loss: 0.0550 - val_loss: 0.0647 - 366ms/epoch - 4ms/step\n",
            "Epoch 36/50\n",
            "84/84 - 0s - loss: 0.0550 - val_loss: 0.0649 - 352ms/epoch - 4ms/step\n",
            "Epoch 37/50\n",
            "84/84 - 0s - loss: 0.0550 - val_loss: 0.0642 - 356ms/epoch - 4ms/step\n",
            "Epoch 38/50\n",
            "84/84 - 0s - loss: 0.0550 - val_loss: 0.0653 - 430ms/epoch - 5ms/step\n",
            "Epoch 39/50\n",
            "84/84 - 0s - loss: 0.0550 - val_loss: 0.0646 - 347ms/epoch - 4ms/step\n",
            "Epoch 40/50\n",
            "84/84 - 0s - loss: 0.0548 - val_loss: 0.0648 - 422ms/epoch - 5ms/step\n",
            "Epoch 41/50\n",
            "84/84 - 0s - loss: 0.0549 - val_loss: 0.0649 - 342ms/epoch - 4ms/step\n",
            "Epoch 42/50\n",
            "84/84 - 0s - loss: 0.0549 - val_loss: 0.0652 - 428ms/epoch - 5ms/step\n",
            "Epoch 43/50\n",
            "84/84 - 0s - loss: 0.0549 - val_loss: 0.0647 - 417ms/epoch - 5ms/step\n",
            "Epoch 44/50\n",
            "84/84 - 0s - loss: 0.0548 - val_loss: 0.0645 - 342ms/epoch - 4ms/step\n",
            "Epoch 45/50\n",
            "84/84 - 0s - loss: 0.0548 - val_loss: 0.0647 - 350ms/epoch - 4ms/step\n",
            "Epoch 46/50\n",
            "84/84 - 0s - loss: 0.0548 - val_loss: 0.0644 - 351ms/epoch - 4ms/step\n",
            "Epoch 47/50\n",
            "84/84 - 0s - loss: 0.0547 - val_loss: 0.0640 - 425ms/epoch - 5ms/step\n",
            "Epoch 48/50\n",
            "84/84 - 0s - loss: 0.0547 - val_loss: 0.0644 - 342ms/epoch - 4ms/step\n",
            "Epoch 49/50\n",
            "84/84 - 0s - loss: 0.0548 - val_loss: 0.0644 - 342ms/epoch - 4ms/step\n",
            "Epoch 50/50\n",
            "84/84 - 0s - loss: 0.0546 - val_loss: 0.0638 - 342ms/epoch - 4ms/step\n"
          ]
        }
      ]
    },
    {
      "cell_type": "code",
      "source": [
        "# plot history\n",
        "pyplot.plot(history.history['loss'], label='train')\n",
        "pyplot.plot(history.history['val_loss'], label='test')\n",
        "pyplot.legend()\n",
        "pyplot.show()"
      ],
      "metadata": {
        "colab": {
          "base_uri": "https://localhost:8080/",
          "height": 430
        },
        "id": "nDoHxwY2b1RF",
        "outputId": "bd03b31b-2999-47ec-a151-24a83371a2c1"
      },
      "id": "nDoHxwY2b1RF",
      "execution_count": 21,
      "outputs": [
        {
          "output_type": "display_data",
          "data": {
            "text/plain": [
              "<Figure size 640x480 with 1 Axes>"
            ],
            "image/png": "[encoded data removed]"
          },
          "metadata": {}
        }
      ]
    },
    {
      "cell_type": "code",
      "source": [
        "y_pred = model.predict(test_X)\n",
        "\n",
        "# plotting test data\n",
        "pyplot.plot(y_pred)\n",
        "pyplot.plot(test_y)"
      ],
      "metadata": {
        "colab": {
          "base_uri": "https://localhost:8080/",
          "height": 465
        },
        "id": "fyqZDzMccAEr",
        "outputId": "4c222659-2e19-403e-d479-a7e5f0b0bf5a"
      },
      "id": "fyqZDzMccAEr",
      "execution_count": 22,
      "outputs": [
        {
          "output_type": "stream",
          "name": "stdout",
          "text": [
            "86/86 [==============================] - 1s 2ms/step\n"
          ]
        },
        {
          "output_type": "execute_result",
          "data": {
            "text/plain": [
              "[<matplotlib.lines.Line2D at 0x7fa75180bd60>]"
            ]
          },
          "metadata": {},
          "execution_count": 22
        },
        {
          "output_type": "display_data",
          "data": {
            "text/plain": [
              "<Figure size 640x480 with 1 Axes>"
            ],
            "image/png": "[encoded data removed]"
          },
          "metadata": {}
        }
      ]
    },
    {
      "cell_type": "code",
      "source": [
        "# Calculate R2\n",
        "r2 = r2_score(test_y, y_pred)\n",
        "\n",
        "# Calculate RMSE\n",
        "rmse = np.sqrt(mean_squared_error(test_y, y_pred))\n",
        "\n",
        "# Calculate MSE\n",
        "mse = mean_squared_error(test_y, y_pred)\n",
        "\n",
        "# Calculate MAE\n",
        "mae = mean_absolute_error(test_y, y_pred)\n",
        "\n",
        "# Calculate adjusted R2\n",
        "n = len(test_y)\n",
        "p = 1  # assuming only one predictor variable\n",
        "r2_adj = 1 - ((1 - r2) * (n - 1)) / (n - p - 1)\n",
        "\n",
        "# Print results\n",
        "print(f\"R2: {r2:.3f}\")\n",
        "print(f\"RMSE: {rmse:.3f}\")\n",
        "print(f\"MSE: {mse:.3f}\")\n",
        "print(f\"MAE: {mae:.3f}\")\n",
        "print(f\"Adjusted R2: {r2_adj:.3f}\")"
      ],
      "metadata": {
        "colab": {
          "base_uri": "https://localhost:8080/"
        },
        "id": "F3zXZI7qb2E9",
        "outputId": "85036484-0e23-49bd-b486-f8ac3bdea12d"
      },
      "id": "F3zXZI7qb2E9",
      "execution_count": 23,
      "outputs": [
        {
          "output_type": "stream",
          "name": "stdout",
          "text": [
            "R2: 0.840\n",
            "RMSE: 0.092\n",
            "MSE: 0.008\n",
            "MAE: 0.064\n",
            "Adjusted R2: 0.840\n"
          ]
        }
      ]
    },
    {
      "cell_type": "code",
      "execution_count": 24,
      "id": "f0c38e73",
      "metadata": {
        "id": "f0c38e73"
      },
      "outputs": [],
      "source": [
        "X_scaler = MinMaxScaler()\n",
        "Y_scaler = MinMaxScaler()\n",
        "X_data = X_scaler.fit_transform(df3[['Irradiance', 'Temp', 'Hum']])\n",
        "Y_data = Y_scaler.fit_transform(df3[['Power']]) "
      ]
    },
    {
      "cell_type": "code",
      "execution_count": 25,
      "id": "99af8525",
      "metadata": {
        "id": "99af8525"
      },
      "outputs": [],
      "source": [
        "def custom_ts_multi_data_prep(dataset, target, start, end, window, horizon):\n",
        "  X = []\n",
        "  y = []\n",
        "  start = start + window\n",
        "  if end is None:\n",
        "    end = len(dataset) - horizon\n",
        "  for i in range(start, end):\n",
        "    indices = range(i-window, i)\n",
        "    X.append(dataset[indices])\n",
        "    indicey = range(i+1, i+1+horizon)\n",
        "    y.append(target[indicey])\n",
        "  return np.array(X), np.array(y)"
      ]
    },
    {
      "cell_type": "code",
      "source": [
        "hist_window = 48\n",
        "horizon = \n",
        "TRAIN_SPLIT = 6000\n",
        "x_train, y_train = custom_ts_multi_data_prep(X_data, Y_data, 0, TRAIN_SPLIT, hist_window, horizon)\n",
        "x_vali, y_vali = custom_ts_multi_data_prep(X_data, Y_data, TRAIN_SPLIT, None, hist_window, horizon) "
      ],
      "metadata": {
        "id": "hLJjBMQNdWxG"
      },
      "id": "hLJjBMQNdWxG",
      "execution_count": 26,
      "outputs": []
    },
    {
      "cell_type": "code",
      "source": [
        " print('Multiple window of past history\\n')\n",
        " print(x_train[0])\n",
        " print('\\n Target horizon\\n')\n",
        " print(y_train[0])"
      ],
      "metadata": {
        "colab": {
          "base_uri": "https://localhost:8080/"
        },
        "id": "wPPRqpnHdaUZ",
        "outputId": "de32d055-3bcb-44f2-cf6d-87dfa067802e"
      },
      "id": "wPPRqpnHdaUZ",
      "execution_count": 27,
      "outputs": [
        {
          "output_type": "stream",
          "name": "stdout",
          "text": [
            "Multiple window of past history\n",
            "\n",
            "[[0.         0.7961165  0.84      ]\n",
            " [0.         0.7961165  0.84      ]\n",
            " [0.         0.7961165  0.865     ]\n",
            " [0.         0.7961165  0.89      ]\n",
            " [0.         0.81553398 0.79      ]\n",
            " [0.00190156 0.84174757 0.76      ]\n",
            " [0.00387625 0.87087379 0.687     ]\n",
            " [0.02128282 0.89320388 0.645     ]\n",
            " [0.03759234 0.88349515 0.645     ]\n",
            " [0.08132816 0.86407767 0.725     ]\n",
            " [0.25422365 0.86407767 0.705     ]\n",
            " [0.62619762 0.84466019 0.7       ]\n",
            " [0.55971623 0.82524272 0.765     ]\n",
            " [0.61120456 0.83495146 0.74      ]\n",
            " [0.4123455  0.83495146 0.74      ]\n",
            " [0.34059826 0.82524272 0.765     ]\n",
            " [0.30381043 0.81553398 0.79      ]\n",
            " [0.10517077 0.81553398 0.79      ]\n",
            " [0.02325751 0.80582524 0.79      ]\n",
            " [0.         0.7961165  0.84      ]\n",
            " [0.         0.7961165  0.84      ]\n",
            " [0.         0.7961165  0.84      ]\n",
            " [0.         0.7961165  0.84      ]\n",
            " [0.         0.7961165  0.84      ]\n",
            " [0.         0.7961165  0.79      ]\n",
            " [0.         0.78640777 0.84      ]\n",
            " [0.         0.7961165  0.765     ]\n",
            " [0.         0.7961165  0.74      ]\n",
            " [0.         0.82524272 0.72      ]\n",
            " [0.00204783 0.83495146 0.687     ]\n",
            " [0.00299861 0.83495146 0.7       ]\n",
            " [0.07832955 0.82524272 0.745     ]\n",
            " [0.1167264  0.81553398 0.79      ]\n",
            " [0.26307321 0.81553398 0.79      ]\n",
            " [0.22182403 0.82524272 0.765     ]\n",
            " [0.1189205  0.83495146 0.72      ]\n",
            " [0.11979814 0.81553398 0.765     ]\n",
            " [0.13252395 0.7961165  0.84      ]\n",
            " [0.14554231 0.7961165  0.84      ]\n",
            " [0.15695166 0.7961165  0.84      ]\n",
            " [0.15344109 0.7961165  0.84      ]\n",
            " [0.08527755 0.7961165  0.84      ]\n",
            " [0.01660206 0.81553398 0.79      ]\n",
            " [0.         0.7961165  0.89      ]\n",
            " [0.         0.7961165  0.89      ]\n",
            " [0.         0.7961165  0.89      ]\n",
            " [0.         0.7961165  0.89      ]\n",
            " [0.         0.7961165  0.89      ]]\n",
            "\n",
            " Target horizon\n",
            "\n",
            "[[0.        ]\n",
            " [0.        ]\n",
            " [0.        ]\n",
            " [0.        ]\n",
            " [0.00182842]\n",
            " [0.00650918]\n",
            " [0.07079646]\n",
            " [0.1878154 ]\n",
            " [0.24325313]\n",
            " [0.34476706]]\n"
          ]
        }
      ]
    },
    {
      "cell_type": "code",
      "source": [
        "import tensorflow as tf\n",
        "\n",
        "batch_size = 256\n",
        "buffer_size = 150\n",
        "train_data = tf.data.Dataset.from_tensor_slices((x_train, y_train))\n",
        "train_data = train_data.cache().shuffle(buffer_size).batch(batch_size).repeat()\n",
        "val_data = tf.data.Dataset.from_tensor_slices((x_vali, y_vali))\n",
        "val_data = val_data.batch(batch_size).repeat() "
      ],
      "metadata": {
        "id": "y1ZEF61fdfga"
      },
      "id": "y1ZEF61fdfga",
      "execution_count": 28,
      "outputs": []
    },
    {
      "cell_type": "code",
      "source": [
        "lstm_model = tf.keras.models.Sequential([\n",
        "tf.keras.layers.Bidirectional(tf.keras.layers.LSTM(200, return_sequences=True), \n",
        "                                input_shape=x_train.shape[-2:]),\n",
        "     tf.keras.layers.Dense(20, activation='tanh'),\n",
        "     tf.keras.layers.Bidirectional(tf.keras.layers.LSTM(150)),\n",
        "     tf.keras.layers.Dense(20, activation='tanh'),\n",
        "     tf.keras.layers.Dense(20, activation='tanh'),\n",
        "     tf.keras.layers.Dropout(0.25),\n",
        "     tf.keras.layers.Dense(units=horizon),\n",
        " ])\n",
        "lstm_model.compile(optimizer='adam', loss='mse')\n",
        "lstm_model.summary() "
      ],
      "metadata": {
        "colab": {
          "base_uri": "https://localhost:8080/"
        },
        "id": "hVxnwtPDdjkz",
        "outputId": "b0125271-6e40-4b96-c64c-713b8309d95b"
      },
      "id": "hVxnwtPDdjkz",
      "execution_count": 40,
      "outputs": [
        {
          "output_type": "stream",
          "name": "stdout",
          "text": [
            "Model: \"sequential_2\"\n",
            "_________________________________________________________________\n",
            " Layer (type)                Output Shape              Param #   \n",
            "=================================================================\n",
            " bidirectional_2 (Bidirectio  (None, 48, 400)          326400    \n",
            " nal)                                                            \n",
            "                                                                 \n",
            " dense_5 (Dense)             (None, 48, 20)            8020      \n",
            "                                                                 \n",
            " bidirectional_3 (Bidirectio  (None, 300)              205200    \n",
            " nal)                                                            \n",
            "                                                                 \n",
            " dense_6 (Dense)             (None, 20)                6020      \n",
            "                                                                 \n",
            " dense_7 (Dense)             (None, 20)                420       \n",
            "                                                                 \n",
            " dropout_1 (Dropout)         (None, 20)                0         \n",
            "                                                                 \n",
            " dense_8 (Dense)             (None, 10)                210       \n",
            "                                                                 \n",
            "=================================================================\n",
            "Total params: 546,270\n",
            "Trainable params: 546,270\n",
            "Non-trainable params: 0\n",
            "_________________________________________________________________\n"
          ]
        }
      ]
    },
    {
      "cell_type": "code",
      "source": [
        "tf.keras.callbacks.EarlyStopping(monitor='val_loss', min_delta=0, patience=10, verbose=1, mode='min')\n",
        "history = lstm_model.fit(train_data,epochs=15,steps_per_epoch=100,validation_data=val_data,validation_steps=50)"
      ],
      "metadata": {
        "colab": {
          "base_uri": "https://localhost:8080/"
        },
        "id": "q6eMmiVOdmSF",
        "outputId": "ccea350c-aa85-4c45-fe1a-c8804c08bcde"
      },
      "id": "q6eMmiVOdmSF",
      "execution_count": 41,
      "outputs": [
        {
          "output_type": "stream",
          "name": "stdout",
          "text": [
            "Epoch 1/15\n",
            "100/100 [==============================] - 14s 58ms/step - loss: 0.0353 - val_loss: 0.0195\n",
            "Epoch 2/15\n",
            "100/100 [==============================] - 4s 35ms/step - loss: 0.0179 - val_loss: 0.0170\n",
            "Epoch 3/15\n",
            "100/100 [==============================] - 4s 35ms/step - loss: 0.0146 - val_loss: 0.0184\n",
            "Epoch 4/15\n",
            "100/100 [==============================] - 4s 37ms/step - loss: 0.0138 - val_loss: 0.0128\n",
            "Epoch 5/15\n",
            "100/100 [==============================] - 4s 35ms/step - loss: 0.0124 - val_loss: 0.0099\n",
            "Epoch 6/15\n",
            "100/100 [==============================] - 4s 36ms/step - loss: 0.0122 - val_loss: 0.0110\n",
            "Epoch 7/15\n",
            "100/100 [==============================] - 4s 37ms/step - loss: 0.0129 - val_loss: 0.0271\n",
            "Epoch 8/15\n",
            "100/100 [==============================] - 4s 36ms/step - loss: 0.0119 - val_loss: 0.0333\n",
            "Epoch 9/15\n",
            "100/100 [==============================] - 4s 36ms/step - loss: 0.0121 - val_loss: 0.0382\n",
            "Epoch 10/15\n",
            "100/100 [==============================] - 4s 36ms/step - loss: 0.0128 - val_loss: 0.0236\n",
            "Epoch 11/15\n",
            "100/100 [==============================] - 4s 41ms/step - loss: 0.0121 - val_loss: 0.0100\n",
            "Epoch 12/15\n",
            "100/100 [==============================] - 4s 36ms/step - loss: 0.0108 - val_loss: 0.0088\n",
            "Epoch 13/15\n",
            "100/100 [==============================] - 4s 36ms/step - loss: 0.0099 - val_loss: 0.0090\n",
            "Epoch 14/15\n",
            "100/100 [==============================] - 4s 37ms/step - loss: 0.0095 - val_loss: 0.0097\n",
            "Epoch 15/15\n",
            "100/100 [==============================] - 4s 35ms/step - loss: 0.0095 - val_loss: 0.0153\n"
          ]
        }
      ]
    },
    {
      "cell_type": "code",
      "source": [
        "# plot history\n",
        "pyplot.plot(history.history['loss'], label='train')\n",
        "pyplot.plot(history.history['val_loss'], label='test')\n",
        "pyplot.legend()\n",
        "pyplot.show()"
      ],
      "metadata": {
        "colab": {
          "base_uri": "https://localhost:8080/",
          "height": 430
        },
        "id": "LgdfIqx9drf9",
        "outputId": "a9437536-dd1b-40ff-c950-d752b1a939b0"
      },
      "id": "LgdfIqx9drf9",
      "execution_count": 42,
      "outputs": [
        {
          "output_type": "display_data",
          "data": {
            "text/plain": [
              "<Figure size 640x480 with 1 Axes>"
            ],
            "image/png": "[encoded data removed]"
          },
          "metadata": {}
        }
      ]
    },
    {
      "cell_type": "code",
      "source": [
        "y_pred"
      ],
      "metadata": {
        "colab": {
          "base_uri": "https://localhost:8080/"
        },
        "id": "cBCF5lAVnsvD",
        "outputId": "00059850-386f-46f7-8e70-e055059716fe"
      },
      "id": "cBCF5lAVnsvD",
      "execution_count": 51,
      "outputs": [
        {
          "output_type": "execute_result",
          "data": {
            "text/plain": [
              "array([[0.22501825],\n",
              "       [0.23263054],\n",
              "       [0.24266312],\n",
              "       ...,\n",
              "       [0.23510687],\n",
              "       [0.25686187],\n",
              "       [0.25870693]], dtype=float32)"
            ]
          },
          "metadata": {},
          "execution_count": 51
        }
      ]
    },
    {
      "cell_type": "code",
      "source": [
        "y_vali.shape"
      ],
      "metadata": {
        "colab": {
          "base_uri": "https://localhost:8080/"
        },
        "id": "1CvcrwOCn3Ya",
        "outputId": "eaf2c1d7-45ad-4bf1-a9e5-911e2221b143"
      },
      "id": "1CvcrwOCn3Ya",
      "execution_count": 49,
      "outputs": [
        {
          "output_type": "execute_result",
          "data": {
            "text/plain": [
              "(2678, 10, 1)"
            ]
          },
          "metadata": {},
          "execution_count": 49
        }
      ]
    },
    {
      "cell_type": "code",
      "source": [
        "y_vali[1].max()"
      ],
      "metadata": {
        "colab": {
          "base_uri": "https://localhost:8080/"
        },
        "id": "Z-PqEjDxo0ui",
        "outputId": "511100ff-0f02-4b46-b1a4-f238e32fadaf"
      },
      "id": "Z-PqEjDxo0ui",
      "execution_count": 54,
      "outputs": [
        {
          "output_type": "execute_result",
          "data": {
            "text/plain": [
              "0.20310100197469466"
            ]
          },
          "metadata": {},
          "execution_count": 54
        }
      ]
    },
    {
      "cell_type": "code",
      "source": [
        "actual_y = []\n",
        "for i in range(0,2678):\n",
        "  actual_y.append(y_vali[i].max())"
      ],
      "metadata": {
        "id": "vXgMRXNFqOw0"
      },
      "id": "vXgMRXNFqOw0",
      "execution_count": 65,
      "outputs": []
    },
    {
      "cell_type": "code",
      "source": [
        "y_pred = model.predict(x_vali)\n",
        "\n",
        "\n",
        "# plotting test data\n",
        "pyplot.plot(y_pred[:240])\n",
        "pyplot.plot(actual_y[:240])"
      ],
      "metadata": {
        "colab": {
          "base_uri": "https://localhost:8080/",
          "height": 465
        },
        "id": "QMsaWFEmqjnI",
        "outputId": "1b7aa13a-943b-426e-8ad6-b68f900e055e"
      },
      "id": "QMsaWFEmqjnI",
      "execution_count": 69,
      "outputs": [
        {
          "output_type": "stream",
          "name": "stdout",
          "text": [
            "84/84 [==============================] - 0s 4ms/step\n"
          ]
        },
        {
          "output_type": "execute_result",
          "data": {
            "text/plain": [
              "[<matplotlib.lines.Line2D at 0x7fa7044e41c0>]"
            ]
          },
          "metadata": {},
          "execution_count": 69
        },
        {
          "output_type": "display_data",
          "data": {
            "text/plain": [
              "<Figure size 640x480 with 1 Axes>"
            ],
            "image/png": "[encoded data removed]"
          },
          "metadata": {}
        }
      ]
    },
    {
      "cell_type": "code",
      "source": [
        "# Calculate R2\n",
        "r2 = r2_score(actual_y, y_pred)\n",
        "\n",
        "# Calculate RMSE\n",
        "rmse = np.sqrt(mean_squared_error(actual_y, y_pred))\n",
        "\n",
        "# Calculate MSE\n",
        "mse = mean_squared_error(actual_y, y_pred)\n",
        "\n",
        "# Calculate MAE\n",
        "mae = mean_absolute_error(actual_y, y_pred)\n",
        "\n",
        "# Calculate adjusted R2\n",
        "n = len(actual_y)\n",
        "p = 1  # assuming only one predictor variable\n",
        "r2_adj = 1 - ((1 - r2) * (n - 1)) / (n - p - 1)\n",
        "\n",
        "# Print results\n",
        "print(f\"R2: {r2:.3f}\")\n",
        "print(f\"RMSE: {rmse:.3f}\")\n",
        "print(f\"MSE: {mse:.3f}\")\n",
        "print(f\"MAE: {mae:.3f}\")\n",
        "print(f\"Adjusted R2: {r2_adj:.3f}\")"
      ],
      "metadata": {
        "colab": {
          "base_uri": "https://localhost:8080/"
        },
        "id": "N7R_01-dsxI2",
        "outputId": "6912724d-fe6e-42c8-ea6d-611ead5040dd"
      },
      "id": "N7R_01-dsxI2",
      "execution_count": 70,
      "outputs": [
        {
          "output_type": "stream",
          "name": "stdout",
          "text": [
            "R2: -0.401\n",
            "RMSE: 0.343\n",
            "MSE: 0.117\n",
            "MAE: 0.300\n",
            "Adjusted R2: -0.402\n"
          ]
        }
      ]
    }
  ],
  "metadata": {
    "kernelspec": {
      "display_name": "Python 3 (ipykernel)",
      "language": "python",
      "name": "python3"
    },
    "language_info": {
      "codemirror_mode": {
        "name": "ipython",
        "version": 3
      },
      "file_extension": ".py",
      "mimetype": "text/x-python",
      "name": "python",
      "nbconvert_exporter": "python",
      "pygments_lexer": "ipython3",
      "version": "3.11.2"
    },
    "colab": {
      "provenance": []
    },
    "accelerator": "GPU",
    "gpuClass": "standard"
  },
  "nbformat": 4,
  "nbformat_minor": 5
}